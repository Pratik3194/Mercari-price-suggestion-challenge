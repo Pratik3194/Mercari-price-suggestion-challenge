{
  "nbformat": 4,
  "nbformat_minor": 0,
  "metadata": {
    "colab": {
      "name": "Case_study_1_submission.ipynb",
      "provenance": [],
      "collapsed_sections": []
    },
    "kernelspec": {
      "display_name": "Python 3",
      "name": "python3"
    },
    "language_info": {
      "name": "python"
    }
  },
  "cells": [
    {
      "cell_type": "markdown",
      "metadata": {
        "id": "VM4RtOLC3r6f"
      },
      "source": [
        "# Mercari price suggestion challenge"
      ]
    },
    {
      "cell_type": "markdown",
      "metadata": {
        "id": "4Do0Qcf932yq"
      },
      "source": [
        "Mercari is an online selling app which is powered by one of the biggest communities of Japan where users can sell their used multiple category of products. It is similar to Quikr in India. The community wants to offer the price suggestion to sellers so that they will be able to know what the price or value of the product is before they sell it.\n",
        "\n",
        "This is not an easy task because the sellers are allowed to put any category of products or any bundle of things on the app, and the price of the product depends on many factors like brand name, usage of the product, condition of the product, how old the product is, etc. It is quite common to get different prices for the same product of different brands and different item conditions.\n",
        "\n",
        "Sellers will have to upload the product information like product name, description, brand, category, item condition, shipping information (whether shipping charge will be given by seller or buyer).\n",
        "\n",
        "The Mercari community wants to build a machine learning model that should be able to suggest the right price of the product to the seller depending upon the above attributes provided by the seller. The goal of this task is to build a regression model that will suggest the price of the product depending upon the attributes of the product given. "
      ]
    },
    {
      "cell_type": "markdown",
      "metadata": {
        "id": "ShVaoJPNDqfD"
      },
      "source": [
        "## Importing libraries"
      ]
    },
    {
      "cell_type": "code",
      "metadata": {
        "id": "aYyoGDup07o8"
      },
      "source": [
        "import numpy as np\n",
        "import pandas as pd\n",
        "import matplotlib.pyplot as plt\n",
        "%matplotlib inline\n",
        "import seaborn as sns\n",
        "from collections import Counter\n",
        "from tqdm import tqdm\n",
        "import pickle\n",
        "import joblib\n",
        "from scipy import sparse"
      ],
      "execution_count": null,
      "outputs": []
    },
    {
      "cell_type": "code",
      "metadata": {
        "id": "JwnvW6GEweul",
        "colab": {
          "base_uri": "https://localhost:8080/"
        },
        "outputId": "3ad12fcc-af18-45ff-cfaa-e902a3c538ca"
      },
      "source": [
        "pip install pyunpack"
      ],
      "execution_count": null,
      "outputs": [
        {
          "output_type": "stream",
          "text": [
            "Collecting pyunpack\n",
            "  Downloading pyunpack-0.2.2-py2.py3-none-any.whl (3.8 kB)\n",
            "Collecting easyprocess\n",
            "  Downloading EasyProcess-0.3-py2.py3-none-any.whl (7.9 kB)\n",
            "Collecting entrypoint2\n",
            "  Downloading entrypoint2-0.2.4-py3-none-any.whl (6.2 kB)\n",
            "Installing collected packages: entrypoint2, easyprocess, pyunpack\n",
            "Successfully installed easyprocess-0.3 entrypoint2-0.2.4 pyunpack-0.2.2\n"
          ],
          "name": "stdout"
        }
      ]
    },
    {
      "cell_type": "code",
      "metadata": {
        "id": "XqXjhoEHxGAr",
        "colab": {
          "base_uri": "https://localhost:8080/"
        },
        "outputId": "28800517-d2d8-4709-a7bb-389926fbc3e0"
      },
      "source": [
        "pip install patool"
      ],
      "execution_count": null,
      "outputs": [
        {
          "output_type": "stream",
          "text": [
            "Collecting patool\n",
            "  Downloading patool-1.12-py2.py3-none-any.whl (77 kB)\n",
            "\u001b[?25l\r\u001b[K     |████▎                           | 10 kB 23.5 MB/s eta 0:00:01\r\u001b[K     |████████▌                       | 20 kB 28.3 MB/s eta 0:00:01\r\u001b[K     |████████████▊                   | 30 kB 21.4 MB/s eta 0:00:01\r\u001b[K     |█████████████████               | 40 kB 17.0 MB/s eta 0:00:01\r\u001b[K     |█████████████████████▏          | 51 kB 8.2 MB/s eta 0:00:01\r\u001b[K     |█████████████████████████▍      | 61 kB 8.0 MB/s eta 0:00:01\r\u001b[K     |█████████████████████████████▋  | 71 kB 8.3 MB/s eta 0:00:01\r\u001b[K     |████████████████████████████████| 77 kB 3.9 MB/s \n",
            "\u001b[?25hInstalling collected packages: patool\n",
            "Successfully installed patool-1.12\n"
          ],
          "name": "stdout"
        }
      ]
    },
    {
      "cell_type": "code",
      "metadata": {
        "id": "YrxtP-exwfFp"
      },
      "source": [
        "!pip install -q kaggle"
      ],
      "execution_count": null,
      "outputs": []
    },
    {
      "cell_type": "markdown",
      "metadata": {
        "id": "0J5XzOBVEAgk"
      },
      "source": [
        "## Loading data from kaggle"
      ]
    },
    {
      "cell_type": "code",
      "metadata": {
        "colab": {
          "resources": {
            "http://localhost:8080/nbextensions/google.colab/files.js": {
              "data": "Ly8gQ29weXJpZ2h0IDIwMTcgR29vZ2xlIExMQwovLwovLyBMaWNlbnNlZCB1bmRlciB0aGUgQXBhY2hlIExpY2Vuc2UsIFZlcnNpb24gMi4wICh0aGUgIkxpY2Vuc2UiKTsKLy8geW91IG1heSBub3QgdXNlIHRoaXMgZmlsZSBleGNlcHQgaW4gY29tcGxpYW5jZSB3aXRoIHRoZSBMaWNlbnNlLgovLyBZb3UgbWF5IG9idGFpbiBhIGNvcHkgb2YgdGhlIExpY2Vuc2UgYXQKLy8KLy8gICAgICBodHRwOi8vd3d3LmFwYWNoZS5vcmcvbGljZW5zZXMvTElDRU5TRS0yLjAKLy8KLy8gVW5sZXNzIHJlcXVpcmVkIGJ5IGFwcGxpY2FibGUgbGF3IG9yIGFncmVlZCB0byBpbiB3cml0aW5nLCBzb2Z0d2FyZQovLyBkaXN0cmlidXRlZCB1bmRlciB0aGUgTGljZW5zZSBpcyBkaXN0cmlidXRlZCBvbiBhbiAiQVMgSVMiIEJBU0lTLAovLyBXSVRIT1VUIFdBUlJBTlRJRVMgT1IgQ09ORElUSU9OUyBPRiBBTlkgS0lORCwgZWl0aGVyIGV4cHJlc3Mgb3IgaW1wbGllZC4KLy8gU2VlIHRoZSBMaWNlbnNlIGZvciB0aGUgc3BlY2lmaWMgbGFuZ3VhZ2UgZ292ZXJuaW5nIHBlcm1pc3Npb25zIGFuZAovLyBsaW1pdGF0aW9ucyB1bmRlciB0aGUgTGljZW5zZS4KCi8qKgogKiBAZmlsZW92ZXJ2aWV3IEhlbHBlcnMgZm9yIGdvb2dsZS5jb2xhYiBQeXRob24gbW9kdWxlLgogKi8KKGZ1bmN0aW9uKHNjb3BlKSB7CmZ1bmN0aW9uIHNwYW4odGV4dCwgc3R5bGVBdHRyaWJ1dGVzID0ge30pIHsKICBjb25zdCBlbGVtZW50ID0gZG9jdW1lbnQuY3JlYXRlRWxlbWVudCgnc3BhbicpOwogIGVsZW1lbnQudGV4dENvbnRlbnQgPSB0ZXh0OwogIGZvciAoY29uc3Qga2V5IG9mIE9iamVjdC5rZXlzKHN0eWxlQXR0cmlidXRlcykpIHsKICAgIGVsZW1lbnQuc3R5bGVba2V5XSA9IHN0eWxlQXR0cmlidXRlc1trZXldOwogIH0KICByZXR1cm4gZWxlbWVudDsKfQoKLy8gTWF4IG51bWJlciBvZiBieXRlcyB3aGljaCB3aWxsIGJlIHVwbG9hZGVkIGF0IGEgdGltZS4KY29uc3QgTUFYX1BBWUxPQURfU0laRSA9IDEwMCAqIDEwMjQ7CgpmdW5jdGlvbiBfdXBsb2FkRmlsZXMoaW5wdXRJZCwgb3V0cHV0SWQpIHsKICBjb25zdCBzdGVwcyA9IHVwbG9hZEZpbGVzU3RlcChpbnB1dElkLCBvdXRwdXRJZCk7CiAgY29uc3Qgb3V0cHV0RWxlbWVudCA9IGRvY3VtZW50LmdldEVsZW1lbnRCeUlkKG91dHB1dElkKTsKICAvLyBDYWNoZSBzdGVwcyBvbiB0aGUgb3V0cHV0RWxlbWVudCB0byBtYWtlIGl0IGF2YWlsYWJsZSBmb3IgdGhlIG5leHQgY2FsbAogIC8vIHRvIHVwbG9hZEZpbGVzQ29udGludWUgZnJvbSBQeXRob24uCiAgb3V0cHV0RWxlbWVudC5zdGVwcyA9IHN0ZXBzOwoKICByZXR1cm4gX3VwbG9hZEZpbGVzQ29udGludWUob3V0cHV0SWQpOwp9CgovLyBUaGlzIGlzIHJvdWdobHkgYW4gYXN5bmMgZ2VuZXJhdG9yIChub3Qgc3VwcG9ydGVkIGluIHRoZSBicm93c2VyIHlldCksCi8vIHdoZXJlIHRoZXJlIGFyZSBtdWx0aXBsZSBhc3luY2hyb25vdXMgc3RlcHMgYW5kIHRoZSBQeXRob24gc2lkZSBpcyBnb2luZwovLyB0byBwb2xsIGZvciBjb21wbGV0aW9uIG9mIGVhY2ggc3RlcC4KLy8gVGhpcyB1c2VzIGEgUHJvbWlzZSB0byBibG9jayB0aGUgcHl0aG9uIHNpZGUgb24gY29tcGxldGlvbiBvZiBlYWNoIHN0ZXAsCi8vIHRoZW4gcGFzc2VzIHRoZSByZXN1bHQgb2YgdGhlIHByZXZpb3VzIHN0ZXAgYXMgdGhlIGlucHV0IHRvIHRoZSBuZXh0IHN0ZXAuCmZ1bmN0aW9uIF91cGxvYWRGaWxlc0NvbnRpbnVlKG91dHB1dElkKSB7CiAgY29uc3Qgb3V0cHV0RWxlbWVudCA9IGRvY3VtZW50LmdldEVsZW1lbnRCeUlkKG91dHB1dElkKTsKICBjb25zdCBzdGVwcyA9IG91dHB1dEVsZW1lbnQuc3RlcHM7CgogIGNvbnN0IG5leHQgPSBzdGVwcy5uZXh0KG91dHB1dEVsZW1lbnQubGFzdFByb21pc2VWYWx1ZSk7CiAgcmV0dXJuIFByb21pc2UucmVzb2x2ZShuZXh0LnZhbHVlLnByb21pc2UpLnRoZW4oKHZhbHVlKSA9PiB7CiAgICAvLyBDYWNoZSB0aGUgbGFzdCBwcm9taXNlIHZhbHVlIHRvIG1ha2UgaXQgYXZhaWxhYmxlIHRvIHRoZSBuZXh0CiAgICAvLyBzdGVwIG9mIHRoZSBnZW5lcmF0b3IuCiAgICBvdXRwdXRFbGVtZW50Lmxhc3RQcm9taXNlVmFsdWUgPSB2YWx1ZTsKICAgIHJldHVybiBuZXh0LnZhbHVlLnJlc3BvbnNlOwogIH0pOwp9CgovKioKICogR2VuZXJhdG9yIGZ1bmN0aW9uIHdoaWNoIGlzIGNhbGxlZCBiZXR3ZWVuIGVhY2ggYXN5bmMgc3RlcCBvZiB0aGUgdXBsb2FkCiAqIHByb2Nlc3MuCiAqIEBwYXJhbSB7c3RyaW5nfSBpbnB1dElkIEVsZW1lbnQgSUQgb2YgdGhlIGlucHV0IGZpbGUgcGlja2VyIGVsZW1lbnQuCiAqIEBwYXJhbSB7c3RyaW5nfSBvdXRwdXRJZCBFbGVtZW50IElEIG9mIHRoZSBvdXRwdXQgZGlzcGxheS4KICogQHJldHVybiB7IUl0ZXJhYmxlPCFPYmplY3Q+fSBJdGVyYWJsZSBvZiBuZXh0IHN0ZXBzLgogKi8KZnVuY3Rpb24qIHVwbG9hZEZpbGVzU3RlcChpbnB1dElkLCBvdXRwdXRJZCkgewogIGNvbnN0IGlucHV0RWxlbWVudCA9IGRvY3VtZW50LmdldEVsZW1lbnRCeUlkKGlucHV0SWQpOwogIGlucHV0RWxlbWVudC5kaXNhYmxlZCA9IGZhbHNlOwoKICBjb25zdCBvdXRwdXRFbGVtZW50ID0gZG9jdW1lbnQuZ2V0RWxlbWVudEJ5SWQob3V0cHV0SWQpOwogIG91dHB1dEVsZW1lbnQuaW5uZXJIVE1MID0gJyc7CgogIGNvbnN0IHBpY2tlZFByb21pc2UgPSBuZXcgUHJvbWlzZSgocmVzb2x2ZSkgPT4gewogICAgaW5wdXRFbGVtZW50LmFkZEV2ZW50TGlzdGVuZXIoJ2NoYW5nZScsIChlKSA9PiB7CiAgICAgIHJlc29sdmUoZS50YXJnZXQuZmlsZXMpOwogICAgfSk7CiAgfSk7CgogIGNvbnN0IGNhbmNlbCA9IGRvY3VtZW50LmNyZWF0ZUVsZW1lbnQoJ2J1dHRvbicpOwogIGlucHV0RWxlbWVudC5wYXJlbnRFbGVtZW50LmFwcGVuZENoaWxkKGNhbmNlbCk7CiAgY2FuY2VsLnRleHRDb250ZW50ID0gJ0NhbmNlbCB1cGxvYWQnOwogIGNvbnN0IGNhbmNlbFByb21pc2UgPSBuZXcgUHJvbWlzZSgocmVzb2x2ZSkgPT4gewogICAgY2FuY2VsLm9uY2xpY2sgPSAoKSA9PiB7CiAgICAgIHJlc29sdmUobnVsbCk7CiAgICB9OwogIH0pOwoKICAvLyBXYWl0IGZvciB0aGUgdXNlciB0byBwaWNrIHRoZSBmaWxlcy4KICBjb25zdCBmaWxlcyA9IHlpZWxkIHsKICAgIHByb21pc2U6IFByb21pc2UucmFjZShbcGlja2VkUHJvbWlzZSwgY2FuY2VsUHJvbWlzZV0pLAogICAgcmVzcG9uc2U6IHsKICAgICAgYWN0aW9uOiAnc3RhcnRpbmcnLAogICAgfQogIH07CgogIGNhbmNlbC5yZW1vdmUoKTsKCiAgLy8gRGlzYWJsZSB0aGUgaW5wdXQgZWxlbWVudCBzaW5jZSBmdXJ0aGVyIHBpY2tzIGFyZSBub3QgYWxsb3dlZC4KICBpbnB1dEVsZW1lbnQuZGlzYWJsZWQgPSB0cnVlOwoKICBpZiAoIWZpbGVzKSB7CiAgICByZXR1cm4gewogICAgICByZXNwb25zZTogewogICAgICAgIGFjdGlvbjogJ2NvbXBsZXRlJywKICAgICAgfQogICAgfTsKICB9CgogIGZvciAoY29uc3QgZmlsZSBvZiBmaWxlcykgewogICAgY29uc3QgbGkgPSBkb2N1bWVudC5jcmVhdGVFbGVtZW50KCdsaScpOwogICAgbGkuYXBwZW5kKHNwYW4oZmlsZS5uYW1lLCB7Zm9udFdlaWdodDogJ2JvbGQnfSkpOwogICAgbGkuYXBwZW5kKHNwYW4oCiAgICAgICAgYCgke2ZpbGUudHlwZSB8fCAnbi9hJ30pIC0gJHtmaWxlLnNpemV9IGJ5dGVzLCBgICsKICAgICAgICBgbGFzdCBtb2RpZmllZDogJHsKICAgICAgICAgICAgZmlsZS5sYXN0TW9kaWZpZWREYXRlID8gZmlsZS5sYXN0TW9kaWZpZWREYXRlLnRvTG9jYWxlRGF0ZVN0cmluZygpIDoKICAgICAgICAgICAgICAgICAgICAgICAgICAgICAgICAgICAgJ24vYSd9IC0gYCkpOwogICAgY29uc3QgcGVyY2VudCA9IHNwYW4oJzAlIGRvbmUnKTsKICAgIGxpLmFwcGVuZENoaWxkKHBlcmNlbnQpOwoKICAgIG91dHB1dEVsZW1lbnQuYXBwZW5kQ2hpbGQobGkpOwoKICAgIGNvbnN0IGZpbGVEYXRhUHJvbWlzZSA9IG5ldyBQcm9taXNlKChyZXNvbHZlKSA9PiB7CiAgICAgIGNvbnN0IHJlYWRlciA9IG5ldyBGaWxlUmVhZGVyKCk7CiAgICAgIHJlYWRlci5vbmxvYWQgPSAoZSkgPT4gewogICAgICAgIHJlc29sdmUoZS50YXJnZXQucmVzdWx0KTsKICAgICAgfTsKICAgICAgcmVhZGVyLnJlYWRBc0FycmF5QnVmZmVyKGZpbGUpOwogICAgfSk7CiAgICAvLyBXYWl0IGZvciB0aGUgZGF0YSB0byBiZSByZWFkeS4KICAgIGxldCBmaWxlRGF0YSA9IHlpZWxkIHsKICAgICAgcHJvbWlzZTogZmlsZURhdGFQcm9taXNlLAogICAgICByZXNwb25zZTogewogICAgICAgIGFjdGlvbjogJ2NvbnRpbnVlJywKICAgICAgfQogICAgfTsKCiAgICAvLyBVc2UgYSBjaHVua2VkIHNlbmRpbmcgdG8gYXZvaWQgbWVzc2FnZSBzaXplIGxpbWl0cy4gU2VlIGIvNjIxMTU2NjAuCiAgICBsZXQgcG9zaXRpb24gPSAwOwogICAgZG8gewogICAgICBjb25zdCBsZW5ndGggPSBNYXRoLm1pbihmaWxlRGF0YS5ieXRlTGVuZ3RoIC0gcG9zaXRpb24sIE1BWF9QQVlMT0FEX1NJWkUpOwogICAgICBjb25zdCBjaHVuayA9IG5ldyBVaW50OEFycmF5KGZpbGVEYXRhLCBwb3NpdGlvbiwgbGVuZ3RoKTsKICAgICAgcG9zaXRpb24gKz0gbGVuZ3RoOwoKICAgICAgY29uc3QgYmFzZTY0ID0gYnRvYShTdHJpbmcuZnJvbUNoYXJDb2RlLmFwcGx5KG51bGwsIGNodW5rKSk7CiAgICAgIHlpZWxkIHsKICAgICAgICByZXNwb25zZTogewogICAgICAgICAgYWN0aW9uOiAnYXBwZW5kJywKICAgICAgICAgIGZpbGU6IGZpbGUubmFtZSwKICAgICAgICAgIGRhdGE6IGJhc2U2NCwKICAgICAgICB9LAogICAgICB9OwoKICAgICAgbGV0IHBlcmNlbnREb25lID0gZmlsZURhdGEuYnl0ZUxlbmd0aCA9PT0gMCA/CiAgICAgICAgICAxMDAgOgogICAgICAgICAgTWF0aC5yb3VuZCgocG9zaXRpb24gLyBmaWxlRGF0YS5ieXRlTGVuZ3RoKSAqIDEwMCk7CiAgICAgIHBlcmNlbnQudGV4dENvbnRlbnQgPSBgJHtwZXJjZW50RG9uZX0lIGRvbmVgOwoKICAgIH0gd2hpbGUgKHBvc2l0aW9uIDwgZmlsZURhdGEuYnl0ZUxlbmd0aCk7CiAgfQoKICAvLyBBbGwgZG9uZS4KICB5aWVsZCB7CiAgICByZXNwb25zZTogewogICAgICBhY3Rpb246ICdjb21wbGV0ZScsCiAgICB9CiAgfTsKfQoKc2NvcGUuZ29vZ2xlID0gc2NvcGUuZ29vZ2xlIHx8IHt9OwpzY29wZS5nb29nbGUuY29sYWIgPSBzY29wZS5nb29nbGUuY29sYWIgfHwge307CnNjb3BlLmdvb2dsZS5jb2xhYi5fZmlsZXMgPSB7CiAgX3VwbG9hZEZpbGVzLAogIF91cGxvYWRGaWxlc0NvbnRpbnVlLAp9Owp9KShzZWxmKTsK",
              "ok": true,
              "headers": [
                [
                  "content-type",
                  "application/javascript"
                ]
              ],
              "status": 200,
              "status_text": ""
            }
          },
          "base_uri": "https://localhost:8080/",
          "height": 90
        },
        "id": "cbV-kG4NwfFq",
        "outputId": "240cedf2-568d-4f09-b1f2-04e9628a8723"
      },
      "source": [
        "from google.colab import files\n",
        "files.upload()"
      ],
      "execution_count": null,
      "outputs": [
        {
          "output_type": "display_data",
          "data": {
            "text/html": [
              "\n",
              "     <input type=\"file\" id=\"files-2387e68e-469b-4371-b1a6-eb85089aac7d\" name=\"files[]\" multiple disabled\n",
              "        style=\"border:none\" />\n",
              "     <output id=\"result-2387e68e-469b-4371-b1a6-eb85089aac7d\">\n",
              "      Upload widget is only available when the cell has been executed in the\n",
              "      current browser session. Please rerun this cell to enable.\n",
              "      </output>\n",
              "      <script src=\"/nbextensions/google.colab/files.js\"></script> "
            ],
            "text/plain": [
              "<IPython.core.display.HTML object>"
            ]
          },
          "metadata": {
            "tags": []
          }
        },
        {
          "output_type": "stream",
          "text": [
            "Saving kaggle.json to kaggle.json\n"
          ],
          "name": "stdout"
        },
        {
          "output_type": "execute_result",
          "data": {
            "text/plain": [
              "{'kaggle.json': b'{\"username\":\"pratikpophali\",\"key\":\"c325a56d4ba16ab693e0ec9ee2049035\"}'}"
            ]
          },
          "metadata": {
            "tags": []
          },
          "execution_count": 7
        }
      ]
    },
    {
      "cell_type": "code",
      "metadata": {
        "id": "AYf-S5RxwfFs"
      },
      "source": [
        "! mkdir ~/.kaggle"
      ],
      "execution_count": null,
      "outputs": []
    },
    {
      "cell_type": "code",
      "metadata": {
        "id": "eHbzTPX4wfFt"
      },
      "source": [
        "! cp kaggle.json ~/.kaggle/"
      ],
      "execution_count": null,
      "outputs": []
    },
    {
      "cell_type": "code",
      "metadata": {
        "id": "SCn0KM7PwfFt"
      },
      "source": [
        "! chmod 600 ~/.kaggle/kaggle.json"
      ],
      "execution_count": null,
      "outputs": []
    },
    {
      "cell_type": "code",
      "metadata": {
        "colab": {
          "base_uri": "https://localhost:8080/"
        },
        "id": "blxYs_ZPwfFu",
        "outputId": "6fb2393a-3c52-4b14-f672-4cfdcbe8428c"
      },
      "source": [
        "!kaggle competitions download -c mercari-price-suggestion-challenge"
      ],
      "execution_count": null,
      "outputs": [
        {
          "output_type": "stream",
          "text": [
            "Warning: Looks like you're using an outdated API Version, please consider updating (server 1.5.12 / client 1.5.4)\n",
            "Downloading train.tsv.7z to /content\n",
            " 87% 65.0M/74.3M [00:00<00:00, 64.9MB/s]\n",
            "100% 74.3M/74.3M [00:00<00:00, 89.9MB/s]\n",
            "Downloading test_stg2.tsv.zip to /content\n",
            "100% 293M/294M [00:03<00:00, 73.0MB/s]\n",
            "100% 294M/294M [00:03<00:00, 98.8MB/s]\n",
            "Downloading sample_submission_stg2.csv.zip to /content\n",
            " 64% 5.00M/7.77M [00:00<00:00, 46.1MB/s]\n",
            "100% 7.77M/7.77M [00:00<00:00, 49.3MB/s]\n",
            "Downloading sample_submission.csv.7z to /content\n",
            "  0% 0.00/170k [00:00<?, ?B/s]\n",
            "100% 170k/170k [00:00<00:00, 173MB/s]\n",
            "Downloading test.tsv.7z to /content\n",
            " 79% 27.0M/34.0M [00:00<00:00, 39.4MB/s]\n",
            "100% 34.0M/34.0M [00:00<00:00, 74.8MB/s]\n"
          ],
          "name": "stdout"
        }
      ]
    },
    {
      "cell_type": "code",
      "metadata": {
        "id": "yjhHoiAw1T5g"
      },
      "source": [
        "from pyunpack import Archive\n",
        "Archive('/content/train.tsv.7z').extractall(\"/content\")"
      ],
      "execution_count": null,
      "outputs": []
    },
    {
      "cell_type": "code",
      "metadata": {
        "colab": {
          "base_uri": "https://localhost:8080/"
        },
        "id": "Q_4kuocHwfFv",
        "outputId": "e68afe9b-0bda-4fe0-961a-4803840ddf44"
      },
      "source": [
        "!unzip test_stg2.tsv.zip"
      ],
      "execution_count": null,
      "outputs": [
        {
          "output_type": "stream",
          "text": [
            "Archive:  test_stg2.tsv.zip\n",
            "  inflating: test_stg2.tsv           \n"
          ],
          "name": "stdout"
        }
      ]
    },
    {
      "cell_type": "code",
      "metadata": {
        "id": "Ltq3jRQe1LUx"
      },
      "source": [
        "train_data = pd.read_csv(\"/content/train.tsv\", sep='\\t')\n",
        "test_data = pd.read_csv(\"/content/test_stg2.tsv\", sep='\\t')"
      ],
      "execution_count": null,
      "outputs": []
    },
    {
      "cell_type": "code",
      "metadata": {
        "colab": {
          "base_uri": "https://localhost:8080/"
        },
        "id": "_3hHGyov1RwM",
        "outputId": "51344ade-9572-43cc-d0e5-68d2acfd4980"
      },
      "source": [
        "print(train_data.shape)\n",
        "print(test_data.shape)"
      ],
      "execution_count": null,
      "outputs": [
        {
          "output_type": "stream",
          "text": [
            "(1482535, 8)\n",
            "(3460725, 7)\n"
          ],
          "name": "stdout"
        }
      ]
    },
    {
      "cell_type": "code",
      "metadata": {
        "colab": {
          "base_uri": "https://localhost:8080/",
          "height": 287
        },
        "id": "Q-I0B0bU2mcK",
        "outputId": "420f782d-7efa-4146-d2a9-4482fdecd9f4"
      },
      "source": [
        "train_data.head()"
      ],
      "execution_count": null,
      "outputs": [
        {
          "output_type": "execute_result",
          "data": {
            "text/html": [
              "<div>\n",
              "<style scoped>\n",
              "    .dataframe tbody tr th:only-of-type {\n",
              "        vertical-align: middle;\n",
              "    }\n",
              "\n",
              "    .dataframe tbody tr th {\n",
              "        vertical-align: top;\n",
              "    }\n",
              "\n",
              "    .dataframe thead th {\n",
              "        text-align: right;\n",
              "    }\n",
              "</style>\n",
              "<table border=\"1\" class=\"dataframe\">\n",
              "  <thead>\n",
              "    <tr style=\"text-align: right;\">\n",
              "      <th></th>\n",
              "      <th>train_id</th>\n",
              "      <th>name</th>\n",
              "      <th>item_condition_id</th>\n",
              "      <th>category_name</th>\n",
              "      <th>brand_name</th>\n",
              "      <th>price</th>\n",
              "      <th>shipping</th>\n",
              "      <th>item_description</th>\n",
              "    </tr>\n",
              "  </thead>\n",
              "  <tbody>\n",
              "    <tr>\n",
              "      <th>0</th>\n",
              "      <td>0</td>\n",
              "      <td>MLB Cincinnati Reds T Shirt Size XL</td>\n",
              "      <td>3</td>\n",
              "      <td>Men/Tops/T-shirts</td>\n",
              "      <td>NaN</td>\n",
              "      <td>10.0</td>\n",
              "      <td>1</td>\n",
              "      <td>No description yet</td>\n",
              "    </tr>\n",
              "    <tr>\n",
              "      <th>1</th>\n",
              "      <td>1</td>\n",
              "      <td>Razer BlackWidow Chroma Keyboard</td>\n",
              "      <td>3</td>\n",
              "      <td>Electronics/Computers &amp; Tablets/Components &amp; P...</td>\n",
              "      <td>Razer</td>\n",
              "      <td>52.0</td>\n",
              "      <td>0</td>\n",
              "      <td>This keyboard is in great condition and works ...</td>\n",
              "    </tr>\n",
              "    <tr>\n",
              "      <th>2</th>\n",
              "      <td>2</td>\n",
              "      <td>AVA-VIV Blouse</td>\n",
              "      <td>1</td>\n",
              "      <td>Women/Tops &amp; Blouses/Blouse</td>\n",
              "      <td>Target</td>\n",
              "      <td>10.0</td>\n",
              "      <td>1</td>\n",
              "      <td>Adorable top with a hint of lace and a key hol...</td>\n",
              "    </tr>\n",
              "    <tr>\n",
              "      <th>3</th>\n",
              "      <td>3</td>\n",
              "      <td>Leather Horse Statues</td>\n",
              "      <td>1</td>\n",
              "      <td>Home/Home Décor/Home Décor Accents</td>\n",
              "      <td>NaN</td>\n",
              "      <td>35.0</td>\n",
              "      <td>1</td>\n",
              "      <td>New with tags. Leather horses. Retail for [rm]...</td>\n",
              "    </tr>\n",
              "    <tr>\n",
              "      <th>4</th>\n",
              "      <td>4</td>\n",
              "      <td>24K GOLD plated rose</td>\n",
              "      <td>1</td>\n",
              "      <td>Women/Jewelry/Necklaces</td>\n",
              "      <td>NaN</td>\n",
              "      <td>44.0</td>\n",
              "      <td>0</td>\n",
              "      <td>Complete with certificate of authenticity</td>\n",
              "    </tr>\n",
              "  </tbody>\n",
              "</table>\n",
              "</div>"
            ],
            "text/plain": [
              "   train_id  ...                                   item_description\n",
              "0         0  ...                                 No description yet\n",
              "1         1  ...  This keyboard is in great condition and works ...\n",
              "2         2  ...  Adorable top with a hint of lace and a key hol...\n",
              "3         3  ...  New with tags. Leather horses. Retail for [rm]...\n",
              "4         4  ...          Complete with certificate of authenticity\n",
              "\n",
              "[5 rows x 8 columns]"
            ]
          },
          "metadata": {
            "tags": []
          },
          "execution_count": 16
        }
      ]
    },
    {
      "cell_type": "markdown",
      "metadata": {
        "id": "s_4YOZpC8Foi"
      },
      "source": [
        "## Handling missing value features"
      ]
    },
    {
      "cell_type": "code",
      "metadata": {
        "colab": {
          "base_uri": "https://localhost:8080/"
        },
        "id": "S_tS5CTf6eZE",
        "outputId": "eafc6e9e-4b17-4899-a789-b130b734276b"
      },
      "source": [
        "train_data.isnull().any()"
      ],
      "execution_count": null,
      "outputs": [
        {
          "output_type": "execute_result",
          "data": {
            "text/plain": [
              "train_id             False\n",
              "name                 False\n",
              "item_condition_id    False\n",
              "category_name         True\n",
              "brand_name            True\n",
              "price                False\n",
              "shipping             False\n",
              "item_description      True\n",
              "dtype: bool"
            ]
          },
          "metadata": {
            "tags": []
          },
          "execution_count": 6
        }
      ]
    },
    {
      "cell_type": "code",
      "metadata": {
        "colab": {
          "base_uri": "https://localhost:8080/"
        },
        "id": "LGbrPEeP8fm9",
        "outputId": "cdea3e50-3729-4080-8361-24bf9063f07f"
      },
      "source": [
        "test_data.isnull().any()"
      ],
      "execution_count": null,
      "outputs": [
        {
          "output_type": "execute_result",
          "data": {
            "text/plain": [
              "test_id              False\n",
              "name                 False\n",
              "item_condition_id    False\n",
              "category_name         True\n",
              "brand_name           False\n",
              "shipping             False\n",
              "item_description     False\n",
              "dtype: bool"
            ]
          },
          "metadata": {
            "tags": []
          },
          "execution_count": 39
        }
      ]
    },
    {
      "cell_type": "code",
      "metadata": {
        "id": "DmLGMSTh8ohs"
      },
      "source": [
        "train_data['category_name'].fillna('missing/missing/missing', inplace=True)\n",
        "test_data['category_name'].fillna('missing/missing/missing', inplace=True)"
      ],
      "execution_count": null,
      "outputs": []
    },
    {
      "cell_type": "code",
      "metadata": {
        "id": "MniWHFtO_G54"
      },
      "source": [
        "train_data['brand_name'].fillna('missing', inplace=True)\n",
        "test_data['brand_name'].fillna('missing', inplace=True)"
      ],
      "execution_count": null,
      "outputs": []
    },
    {
      "cell_type": "code",
      "metadata": {
        "id": "0MG1P89R_ZhE"
      },
      "source": [
        "train_data['item_description'].fillna('No description yet', inplace=True)\n",
        "test_data['item_description'].fillna('No description yet', inplace=True)"
      ],
      "execution_count": null,
      "outputs": []
    },
    {
      "cell_type": "code",
      "metadata": {
        "colab": {
          "base_uri": "https://localhost:8080/"
        },
        "id": "fg65FXSM_785",
        "outputId": "11dc277c-1e46-47b0-e463-ec0bdcac7ac9"
      },
      "source": [
        "train_data.isnull().any()"
      ],
      "execution_count": null,
      "outputs": [
        {
          "output_type": "execute_result",
          "data": {
            "text/plain": [
              "train_id             False\n",
              "name                 False\n",
              "item_condition_id    False\n",
              "category_name        False\n",
              "brand_name           False\n",
              "price                False\n",
              "shipping             False\n",
              "item_description     False\n",
              "dtype: bool"
            ]
          },
          "metadata": {
            "tags": []
          },
          "execution_count": 11
        }
      ]
    },
    {
      "cell_type": "markdown",
      "metadata": {
        "id": "b392YtXHAdr0"
      },
      "source": [
        "## Splitting categories"
      ]
    },
    {
      "cell_type": "code",
      "metadata": {
        "id": "JwnMHSB7AEtz"
      },
      "source": [
        "train_data['cat_1'] = train_data['category_name'].apply(lambda x : x.split('/')[0].strip())\n",
        "train_data['cat_2'] = train_data['category_name'].apply(lambda x : x.split('/')[1].strip())\n",
        "train_data['cat_3'] = train_data['category_name'].apply(lambda x : x.split('/')[2].strip())"
      ],
      "execution_count": null,
      "outputs": []
    },
    {
      "cell_type": "code",
      "metadata": {
        "id": "lWbM9DAMBBj-"
      },
      "source": [
        "test_data['cat_1'] = test_data['category_name'].apply(lambda x : x.split('/')[0].strip())\n",
        "test_data['cat_2'] = test_data['category_name'].apply(lambda x : x.split('/')[1].strip())\n",
        "test_data['cat_3'] = test_data['category_name'].apply(lambda x : x.split('/')[2].strip())"
      ],
      "execution_count": null,
      "outputs": []
    },
    {
      "cell_type": "code",
      "metadata": {
        "id": "dXLZb3kaA-19"
      },
      "source": [
        "train_data.drop('category_name', axis=1, inplace=True)\n",
        "test_data.drop('category_name', axis=1, inplace=True)"
      ],
      "execution_count": null,
      "outputs": []
    },
    {
      "cell_type": "markdown",
      "metadata": {
        "id": "m-seeksZBuOb"
      },
      "source": [
        "Printing head of train_data"
      ]
    },
    {
      "cell_type": "code",
      "metadata": {
        "colab": {
          "base_uri": "https://localhost:8080/",
          "height": 287
        },
        "id": "7WLw9hlyBrkr",
        "outputId": "5d708be5-9971-4b0d-c270-86e680aa848d"
      },
      "source": [
        "train_data.head()"
      ],
      "execution_count": null,
      "outputs": [
        {
          "output_type": "execute_result",
          "data": {
            "text/html": [
              "<div>\n",
              "<style scoped>\n",
              "    .dataframe tbody tr th:only-of-type {\n",
              "        vertical-align: middle;\n",
              "    }\n",
              "\n",
              "    .dataframe tbody tr th {\n",
              "        vertical-align: top;\n",
              "    }\n",
              "\n",
              "    .dataframe thead th {\n",
              "        text-align: right;\n",
              "    }\n",
              "</style>\n",
              "<table border=\"1\" class=\"dataframe\">\n",
              "  <thead>\n",
              "    <tr style=\"text-align: right;\">\n",
              "      <th></th>\n",
              "      <th>train_id</th>\n",
              "      <th>name</th>\n",
              "      <th>item_condition_id</th>\n",
              "      <th>brand_name</th>\n",
              "      <th>price</th>\n",
              "      <th>shipping</th>\n",
              "      <th>item_description</th>\n",
              "      <th>cat_1</th>\n",
              "      <th>cat_2</th>\n",
              "      <th>cat_3</th>\n",
              "    </tr>\n",
              "  </thead>\n",
              "  <tbody>\n",
              "    <tr>\n",
              "      <th>0</th>\n",
              "      <td>0</td>\n",
              "      <td>MLB Cincinnati Reds T Shirt Size XL</td>\n",
              "      <td>3</td>\n",
              "      <td>missing</td>\n",
              "      <td>10.0</td>\n",
              "      <td>1</td>\n",
              "      <td>No description yet</td>\n",
              "      <td>Men</td>\n",
              "      <td>Tops</td>\n",
              "      <td>T-shirts</td>\n",
              "    </tr>\n",
              "    <tr>\n",
              "      <th>1</th>\n",
              "      <td>1</td>\n",
              "      <td>Razer BlackWidow Chroma Keyboard</td>\n",
              "      <td>3</td>\n",
              "      <td>Razer</td>\n",
              "      <td>52.0</td>\n",
              "      <td>0</td>\n",
              "      <td>This keyboard is in great condition and works ...</td>\n",
              "      <td>Electronics</td>\n",
              "      <td>Computers &amp; Tablets</td>\n",
              "      <td>Components &amp; Parts</td>\n",
              "    </tr>\n",
              "    <tr>\n",
              "      <th>2</th>\n",
              "      <td>2</td>\n",
              "      <td>AVA-VIV Blouse</td>\n",
              "      <td>1</td>\n",
              "      <td>Target</td>\n",
              "      <td>10.0</td>\n",
              "      <td>1</td>\n",
              "      <td>Adorable top with a hint of lace and a key hol...</td>\n",
              "      <td>Women</td>\n",
              "      <td>Tops &amp; Blouses</td>\n",
              "      <td>Blouse</td>\n",
              "    </tr>\n",
              "    <tr>\n",
              "      <th>3</th>\n",
              "      <td>3</td>\n",
              "      <td>Leather Horse Statues</td>\n",
              "      <td>1</td>\n",
              "      <td>missing</td>\n",
              "      <td>35.0</td>\n",
              "      <td>1</td>\n",
              "      <td>New with tags. Leather horses. Retail for [rm]...</td>\n",
              "      <td>Home</td>\n",
              "      <td>Home Décor</td>\n",
              "      <td>Home Décor Accents</td>\n",
              "    </tr>\n",
              "    <tr>\n",
              "      <th>4</th>\n",
              "      <td>4</td>\n",
              "      <td>24K GOLD plated rose</td>\n",
              "      <td>1</td>\n",
              "      <td>missing</td>\n",
              "      <td>44.0</td>\n",
              "      <td>0</td>\n",
              "      <td>Complete with certificate of authenticity</td>\n",
              "      <td>Women</td>\n",
              "      <td>Jewelry</td>\n",
              "      <td>Necklaces</td>\n",
              "    </tr>\n",
              "  </tbody>\n",
              "</table>\n",
              "</div>"
            ],
            "text/plain": [
              "   train_id  ...               cat_3\n",
              "0         0  ...            T-shirts\n",
              "1         1  ...  Components & Parts\n",
              "2         2  ...              Blouse\n",
              "3         3  ...  Home Décor Accents\n",
              "4         4  ...           Necklaces\n",
              "\n",
              "[5 rows x 10 columns]"
            ]
          },
          "metadata": {
            "tags": []
          },
          "execution_count": 15
        }
      ]
    },
    {
      "cell_type": "markdown",
      "metadata": {
        "id": "7tyZ-un_CGxx"
      },
      "source": [
        "Removing data with invalid price"
      ]
    },
    {
      "cell_type": "code",
      "metadata": {
        "id": "6xjkGWzSB0IA"
      },
      "source": [
        "train_data = train_data[train_data['price']>0]"
      ],
      "execution_count": null,
      "outputs": []
    },
    {
      "cell_type": "code",
      "metadata": {
        "colab": {
          "base_uri": "https://localhost:8080/"
        },
        "id": "DEL9TmpCCasX",
        "outputId": "fb4749fe-66ab-4ba9-92ed-ec48cfae5025"
      },
      "source": [
        "train_data.shape"
      ],
      "execution_count": null,
      "outputs": [
        {
          "output_type": "execute_result",
          "data": {
            "text/plain": [
              "(1481661, 10)"
            ]
          },
          "metadata": {
            "tags": []
          },
          "execution_count": 17
        }
      ]
    },
    {
      "cell_type": "markdown",
      "metadata": {
        "id": "ssUnuix1OHIK"
      },
      "source": [
        "## Searching missing values of brand names in item name and item description."
      ]
    },
    {
      "cell_type": "code",
      "metadata": {
        "id": "_yhhPvn7duk8"
      },
      "source": [
        "train_data = pd.read_pickle('/content/drive/MyDrive/Colab Notebooks/Case_study_1/train_data.pkl')"
      ],
      "execution_count": null,
      "outputs": []
    },
    {
      "cell_type": "code",
      "metadata": {
        "id": "RO3qwOyROHIc"
      },
      "source": [
        "train_data['brand_name_mod'] = train_data['brand_name']"
      ],
      "execution_count": null,
      "outputs": []
    },
    {
      "cell_type": "code",
      "metadata": {
        "colab": {
          "base_uri": "https://localhost:8080/"
        },
        "id": "3dOLn0aOOHId",
        "outputId": "81752979-50b9-4fed-a493-f6f9a9c4f545"
      },
      "source": [
        "brand_set = set(train_data['brand_name_mod'].values)\n",
        "len(brand_set)"
      ],
      "execution_count": null,
      "outputs": [
        {
          "output_type": "execute_result",
          "data": {
            "text/plain": [
              "4808"
            ]
          },
          "metadata": {
            "tags": []
          },
          "execution_count": 30
        }
      ]
    },
    {
      "cell_type": "code",
      "metadata": {
        "colab": {
          "base_uri": "https://localhost:8080/"
        },
        "id": "4K2fRVx4OHIe",
        "outputId": "fccb4557-1d53-4118-d811-b6b26fca747d"
      },
      "source": [
        "for i in tqdm(range(len(train_data))):\n",
        "  \n",
        "  if train_data.iloc[i]['brand_name_mod'] == 'missing':\n",
        "    a = train_data.iloc[i]['name'].split()\n",
        "    b = train_data.iloc[i]['item_description'].split()\n",
        "    c = set(a+b)\n",
        "    for j in c:\n",
        "      if j in brand_set:\n",
        "        d = train_data.iloc[i]['train_id']\n",
        "        train_data.loc[d, 'brand_name_mod'] = j\n"
      ],
      "execution_count": null,
      "outputs": [
        {
          "output_type": "stream",
          "text": [
            "100%|██████████| 1481661/1481661 [1:35:32<00:00, 258.47it/s]\n"
          ],
          "name": "stderr"
        }
      ]
    },
    {
      "cell_type": "code",
      "metadata": {
        "id": "BR2F-MIaOHIe"
      },
      "source": [
        "by_brand = train_data.groupby('brand_name_mod')"
      ],
      "execution_count": null,
      "outputs": []
    },
    {
      "cell_type": "code",
      "metadata": {
        "id": "DRLVQwooOHIe"
      },
      "source": [
        "by_brand_mean = by_brand.mean()"
      ],
      "execution_count": null,
      "outputs": []
    },
    {
      "cell_type": "code",
      "metadata": {
        "colab": {
          "base_uri": "https://localhost:8080/"
        },
        "id": "iAfft2D1OHIe",
        "outputId": "d1e2b25d-7dcf-4c4b-b038-77abcb6b100e"
      },
      "source": [
        "by_brand_mean['price']"
      ],
      "execution_count": null,
      "outputs": [
        {
          "output_type": "execute_result",
          "data": {
            "text/plain": [
              "brand_name_mod\n",
              "!iT Jeans           16.000000\n",
              "% Pure              16.344262\n",
              "10.Deep             17.333333\n",
              "191 Unlimited       36.000000\n",
              "1byone              45.000000\n",
              "                      ...    \n",
              "tokidoki            33.205556\n",
              "totes ISOTONER      16.642857\n",
              "triangl swimwear    44.600000\n",
              "vineyard vines      24.881940\n",
              "wallis               8.000000\n",
              "Name: price, Length: 4808, dtype: float64"
            ]
          },
          "metadata": {
            "tags": []
          },
          "execution_count": 54
        }
      ]
    },
    {
      "cell_type": "code",
      "metadata": {
        "colab": {
          "base_uri": "https://localhost:8080/"
        },
        "id": "2QIe2ZycOHIf",
        "outputId": "76f898e7-dd42-4630-8384-b25f87334ae3"
      },
      "source": [
        "for i in range(0, 125, 25):\n",
        "  a = 0\n",
        "  a = by_brand_mean['price'].quantile(i/100)\n",
        "  print('{} th percetile is {}'.format(i, a))"
      ],
      "execution_count": null,
      "outputs": [
        {
          "output_type": "stream",
          "text": [
            "0 th percetile is 3.0\n",
            "25 th percetile is 14.0\n",
            "50 th percetile is 19.0\n",
            "75 th percetile is 28.321138211382113\n",
            "100 th percetile is 413.25\n"
          ],
          "name": "stdout"
        }
      ]
    },
    {
      "cell_type": "markdown",
      "metadata": {
        "id": "5zo4wQyB0HKG"
      },
      "source": [
        "## Creating feature as a pricing category cheap, affordable and expensive based on the percentile value"
      ]
    },
    {
      "cell_type": "code",
      "metadata": {
        "id": "iCj3PWjJOHIf"
      },
      "source": [
        "def costing(x):\n",
        "  \"\"\"\n",
        "  A function for definig pricing category.\n",
        "  If the price is less than 25th perc, then 'cheap',\n",
        "  if the price is between 25th perc. and 75th perc, then 'afforadable',\n",
        "  if the price is above 75t perc. then 'expensive.\n",
        "  \n",
        "  \"\"\"\n",
        "  if x < 14:\n",
        "    y = 'cheap'\n",
        "  elif x > 14 and x < 28.3:\n",
        "    y = 'affordable'\n",
        "  else:\n",
        "    y = 'expensive'\n",
        "  \n",
        "  return y"
      ],
      "execution_count": null,
      "outputs": []
    },
    {
      "cell_type": "code",
      "metadata": {
        "colab": {
          "base_uri": "https://localhost:8080/",
          "height": 234
        },
        "id": "GbrjC5mhOHIf",
        "outputId": "84332474-7736-47ad-a850-6388bbc89b1f"
      },
      "source": [
        "by_brand_mean.head()"
      ],
      "execution_count": null,
      "outputs": [
        {
          "output_type": "execute_result",
          "data": {
            "text/html": [
              "<div>\n",
              "<style scoped>\n",
              "    .dataframe tbody tr th:only-of-type {\n",
              "        vertical-align: middle;\n",
              "    }\n",
              "\n",
              "    .dataframe tbody tr th {\n",
              "        vertical-align: top;\n",
              "    }\n",
              "\n",
              "    .dataframe thead th {\n",
              "        text-align: right;\n",
              "    }\n",
              "</style>\n",
              "<table border=\"1\" class=\"dataframe\">\n",
              "  <thead>\n",
              "    <tr style=\"text-align: right;\">\n",
              "      <th></th>\n",
              "      <th>train_id</th>\n",
              "      <th>item_condition_id</th>\n",
              "      <th>price</th>\n",
              "      <th>shipping</th>\n",
              "      <th>medain_brand_price</th>\n",
              "    </tr>\n",
              "    <tr>\n",
              "      <th>brand_name_mod</th>\n",
              "      <th></th>\n",
              "      <th></th>\n",
              "      <th></th>\n",
              "      <th></th>\n",
              "      <th></th>\n",
              "    </tr>\n",
              "  </thead>\n",
              "  <tbody>\n",
              "    <tr>\n",
              "      <th>!iT Jeans</th>\n",
              "      <td>8.163520e+05</td>\n",
              "      <td>2.000000</td>\n",
              "      <td>16.000000</td>\n",
              "      <td>0.000000</td>\n",
              "      <td>16.0</td>\n",
              "    </tr>\n",
              "    <tr>\n",
              "      <th>% Pure</th>\n",
              "      <td>7.781490e+05</td>\n",
              "      <td>1.311475</td>\n",
              "      <td>16.344262</td>\n",
              "      <td>0.557377</td>\n",
              "      <td>14.0</td>\n",
              "    </tr>\n",
              "    <tr>\n",
              "      <th>10.Deep</th>\n",
              "      <td>8.984763e+05</td>\n",
              "      <td>2.666667</td>\n",
              "      <td>17.333333</td>\n",
              "      <td>0.000000</td>\n",
              "      <td>16.0</td>\n",
              "    </tr>\n",
              "    <tr>\n",
              "      <th>191 Unlimited</th>\n",
              "      <td>1.445400e+06</td>\n",
              "      <td>3.000000</td>\n",
              "      <td>36.000000</td>\n",
              "      <td>0.000000</td>\n",
              "      <td>36.0</td>\n",
              "    </tr>\n",
              "    <tr>\n",
              "      <th>1byone</th>\n",
              "      <td>1.248342e+06</td>\n",
              "      <td>1.000000</td>\n",
              "      <td>45.000000</td>\n",
              "      <td>0.000000</td>\n",
              "      <td>45.0</td>\n",
              "    </tr>\n",
              "  </tbody>\n",
              "</table>\n",
              "</div>"
            ],
            "text/plain": [
              "                    train_id  item_condition_id  ...  shipping  medain_brand_price\n",
              "brand_name_mod                                   ...                              \n",
              "!iT Jeans       8.163520e+05           2.000000  ...  0.000000                16.0\n",
              "% Pure          7.781490e+05           1.311475  ...  0.557377                14.0\n",
              "10.Deep         8.984763e+05           2.666667  ...  0.000000                16.0\n",
              "191 Unlimited   1.445400e+06           3.000000  ...  0.000000                36.0\n",
              "1byone          1.248342e+06           1.000000  ...  0.000000                45.0\n",
              "\n",
              "[5 rows x 5 columns]"
            ]
          },
          "metadata": {
            "tags": []
          },
          "execution_count": 57
        }
      ]
    },
    {
      "cell_type": "code",
      "metadata": {
        "id": "8pEcfBZ0OHIf"
      },
      "source": [
        "by_brand_mean['pricing_cat'] = by_brand_mean['price'].apply(costing)"
      ],
      "execution_count": null,
      "outputs": []
    },
    {
      "cell_type": "code",
      "metadata": {
        "colab": {
          "base_uri": "https://localhost:8080/",
          "height": 234
        },
        "id": "pAf3hgn_OHIg",
        "outputId": "74e3f67f-cd9c-441e-d6b0-7b5e65ea68af"
      },
      "source": [
        "by_brand_mean.head()"
      ],
      "execution_count": null,
      "outputs": [
        {
          "output_type": "execute_result",
          "data": {
            "text/html": [
              "<div>\n",
              "<style scoped>\n",
              "    .dataframe tbody tr th:only-of-type {\n",
              "        vertical-align: middle;\n",
              "    }\n",
              "\n",
              "    .dataframe tbody tr th {\n",
              "        vertical-align: top;\n",
              "    }\n",
              "\n",
              "    .dataframe thead th {\n",
              "        text-align: right;\n",
              "    }\n",
              "</style>\n",
              "<table border=\"1\" class=\"dataframe\">\n",
              "  <thead>\n",
              "    <tr style=\"text-align: right;\">\n",
              "      <th></th>\n",
              "      <th>train_id</th>\n",
              "      <th>item_condition_id</th>\n",
              "      <th>price</th>\n",
              "      <th>shipping</th>\n",
              "      <th>medain_brand_price</th>\n",
              "      <th>pricing_cat</th>\n",
              "    </tr>\n",
              "    <tr>\n",
              "      <th>brand_name_mod</th>\n",
              "      <th></th>\n",
              "      <th></th>\n",
              "      <th></th>\n",
              "      <th></th>\n",
              "      <th></th>\n",
              "      <th></th>\n",
              "    </tr>\n",
              "  </thead>\n",
              "  <tbody>\n",
              "    <tr>\n",
              "      <th>!iT Jeans</th>\n",
              "      <td>8.163520e+05</td>\n",
              "      <td>2.000000</td>\n",
              "      <td>16.000000</td>\n",
              "      <td>0.000000</td>\n",
              "      <td>16.0</td>\n",
              "      <td>affordable</td>\n",
              "    </tr>\n",
              "    <tr>\n",
              "      <th>% Pure</th>\n",
              "      <td>7.781490e+05</td>\n",
              "      <td>1.311475</td>\n",
              "      <td>16.344262</td>\n",
              "      <td>0.557377</td>\n",
              "      <td>14.0</td>\n",
              "      <td>affordable</td>\n",
              "    </tr>\n",
              "    <tr>\n",
              "      <th>10.Deep</th>\n",
              "      <td>8.984763e+05</td>\n",
              "      <td>2.666667</td>\n",
              "      <td>17.333333</td>\n",
              "      <td>0.000000</td>\n",
              "      <td>16.0</td>\n",
              "      <td>affordable</td>\n",
              "    </tr>\n",
              "    <tr>\n",
              "      <th>191 Unlimited</th>\n",
              "      <td>1.445400e+06</td>\n",
              "      <td>3.000000</td>\n",
              "      <td>36.000000</td>\n",
              "      <td>0.000000</td>\n",
              "      <td>36.0</td>\n",
              "      <td>expensive</td>\n",
              "    </tr>\n",
              "    <tr>\n",
              "      <th>1byone</th>\n",
              "      <td>1.248342e+06</td>\n",
              "      <td>1.000000</td>\n",
              "      <td>45.000000</td>\n",
              "      <td>0.000000</td>\n",
              "      <td>45.0</td>\n",
              "      <td>expensive</td>\n",
              "    </tr>\n",
              "  </tbody>\n",
              "</table>\n",
              "</div>"
            ],
            "text/plain": [
              "                    train_id  item_condition_id  ...  medain_brand_price  pricing_cat\n",
              "brand_name_mod                                   ...                                 \n",
              "!iT Jeans       8.163520e+05           2.000000  ...                16.0   affordable\n",
              "% Pure          7.781490e+05           1.311475  ...                14.0   affordable\n",
              "10.Deep         8.984763e+05           2.666667  ...                16.0   affordable\n",
              "191 Unlimited   1.445400e+06           3.000000  ...                36.0    expensive\n",
              "1byone          1.248342e+06           1.000000  ...                45.0    expensive\n",
              "\n",
              "[5 rows x 6 columns]"
            ]
          },
          "metadata": {
            "tags": []
          },
          "execution_count": 59
        }
      ]
    },
    {
      "cell_type": "code",
      "metadata": {
        "id": "IqF-nvFKOHIg"
      },
      "source": [
        "brand_price = dict(zip(by_brand_mean.index, by_brand_mean.pricing_cat))"
      ],
      "execution_count": null,
      "outputs": []
    },
    {
      "cell_type": "code",
      "metadata": {
        "id": "8ogOZm2ToTSQ"
      },
      "source": [
        "a_file = open(\"/content/drive/MyDrive/Colab Notebooks/Case_study_1/brand_price.pkl\", \"wb\")\n",
        "pickle.dump(brand_price, a_file)\n",
        "a_file.close()"
      ],
      "execution_count": null,
      "outputs": []
    },
    {
      "cell_type": "code",
      "metadata": {
        "id": "aeVOXHWCo0Nx"
      },
      "source": [
        "a_file = open(\"/content/drive/MyDrive/Colab Notebooks/Case_study_1/brand_price.pkl\", \"rb\")\n",
        "output = pickle.load(a_file)"
      ],
      "execution_count": null,
      "outputs": []
    },
    {
      "cell_type": "code",
      "metadata": {
        "id": "TmNNBJYWOHIj"
      },
      "source": [
        "def dict_fun(x):\n",
        "  \"\"\"\n",
        "  A function for specifying a pricing category based on the brand name and mean brand price\n",
        "  \n",
        "  \"\"\"\n",
        "  if x in brand_price.keys():\n",
        "    return brand_price[x]\n",
        "  else:\n",
        "    return 'affordable'"
      ],
      "execution_count": null,
      "outputs": []
    },
    {
      "cell_type": "code",
      "metadata": {
        "id": "fDHlXJLYOHIj"
      },
      "source": [
        "train_data['pricing_cat'] = train_data['brand_name_mod'].apply(dict_fun)"
      ],
      "execution_count": null,
      "outputs": []
    },
    {
      "cell_type": "code",
      "metadata": {
        "id": "3n-PeqxWPWwj"
      },
      "source": [
        "train_data['brand_name'] = train_data['brand_name_mod']"
      ],
      "execution_count": null,
      "outputs": []
    },
    {
      "cell_type": "code",
      "metadata": {
        "id": "Oft8WIXLP3Xv"
      },
      "source": [
        "train_data.drop('brand_name_mod', axis=1, inplace=True)\n",
        "train_data.head()"
      ],
      "execution_count": null,
      "outputs": []
    },
    {
      "cell_type": "markdown",
      "metadata": {
        "id": "oNbgurQofKay"
      },
      "source": [
        "## Creating feature as median of price for brand_name"
      ]
    },
    {
      "cell_type": "code",
      "metadata": {
        "id": "zRx-AZFmzwZo"
      },
      "source": [
        "by_brand = train_data.groupby('brand_name')"
      ],
      "execution_count": null,
      "outputs": []
    },
    {
      "cell_type": "code",
      "metadata": {
        "colab": {
          "base_uri": "https://localhost:8080/",
          "height": 234
        },
        "id": "RgjutJKSzwXJ",
        "outputId": "857accbc-c6ef-4455-c343-92f09c243c28"
      },
      "source": [
        "by_brand_median = by_brand.median()\n",
        "by_brand_median.head()"
      ],
      "execution_count": null,
      "outputs": [
        {
          "output_type": "execute_result",
          "data": {
            "text/html": [
              "<div>\n",
              "<style scoped>\n",
              "    .dataframe tbody tr th:only-of-type {\n",
              "        vertical-align: middle;\n",
              "    }\n",
              "\n",
              "    .dataframe tbody tr th {\n",
              "        vertical-align: top;\n",
              "    }\n",
              "\n",
              "    .dataframe thead th {\n",
              "        text-align: right;\n",
              "    }\n",
              "</style>\n",
              "<table border=\"1\" class=\"dataframe\">\n",
              "  <thead>\n",
              "    <tr style=\"text-align: right;\">\n",
              "      <th></th>\n",
              "      <th>train_id</th>\n",
              "      <th>item_condition_id</th>\n",
              "      <th>price</th>\n",
              "      <th>shipping</th>\n",
              "      <th>medain_brand_price</th>\n",
              "    </tr>\n",
              "    <tr>\n",
              "      <th>brand_name</th>\n",
              "      <th></th>\n",
              "      <th></th>\n",
              "      <th></th>\n",
              "      <th></th>\n",
              "      <th></th>\n",
              "    </tr>\n",
              "  </thead>\n",
              "  <tbody>\n",
              "    <tr>\n",
              "      <th>!iT Jeans</th>\n",
              "      <td>816352.0</td>\n",
              "      <td>2.0</td>\n",
              "      <td>16.0</td>\n",
              "      <td>0.0</td>\n",
              "      <td>16.0</td>\n",
              "    </tr>\n",
              "    <tr>\n",
              "      <th>% Pure</th>\n",
              "      <td>837320.0</td>\n",
              "      <td>1.0</td>\n",
              "      <td>14.0</td>\n",
              "      <td>1.0</td>\n",
              "      <td>14.0</td>\n",
              "    </tr>\n",
              "    <tr>\n",
              "      <th>10.Deep</th>\n",
              "      <td>1125972.0</td>\n",
              "      <td>3.0</td>\n",
              "      <td>16.0</td>\n",
              "      <td>0.0</td>\n",
              "      <td>16.0</td>\n",
              "    </tr>\n",
              "    <tr>\n",
              "      <th>191 Unlimited</th>\n",
              "      <td>1445400.0</td>\n",
              "      <td>3.0</td>\n",
              "      <td>36.0</td>\n",
              "      <td>0.0</td>\n",
              "      <td>36.0</td>\n",
              "    </tr>\n",
              "    <tr>\n",
              "      <th>1byone</th>\n",
              "      <td>1248341.5</td>\n",
              "      <td>1.0</td>\n",
              "      <td>45.0</td>\n",
              "      <td>0.0</td>\n",
              "      <td>45.0</td>\n",
              "    </tr>\n",
              "  </tbody>\n",
              "</table>\n",
              "</div>"
            ],
            "text/plain": [
              "                train_id  item_condition_id  ...  shipping  medain_brand_price\n",
              "brand_name                                   ...                              \n",
              "!iT Jeans       816352.0                2.0  ...       0.0                16.0\n",
              "% Pure          837320.0                1.0  ...       1.0                14.0\n",
              "10.Deep        1125972.0                3.0  ...       0.0                16.0\n",
              "191 Unlimited  1445400.0                3.0  ...       0.0                36.0\n",
              "1byone         1248341.5                1.0  ...       0.0                45.0\n",
              "\n",
              "[5 rows x 5 columns]"
            ]
          },
          "metadata": {
            "tags": []
          },
          "execution_count": 80
        }
      ]
    },
    {
      "cell_type": "code",
      "metadata": {
        "id": "5q_JiuAZ05dN"
      },
      "source": [
        "brand_price_median = dict(zip(by_brand_median.index, by_brand_median.price))"
      ],
      "execution_count": null,
      "outputs": []
    },
    {
      "cell_type": "code",
      "metadata": {
        "id": "1phGj54WpUwQ"
      },
      "source": [
        "a_file = open(\"/content/drive/MyDrive/Colab Notebooks/Case_study_1/brand_price_median.pkl\", \"wb\")\n",
        "pickle.dump(brand_price_median, a_file)\n",
        "a_file.close()"
      ],
      "execution_count": null,
      "outputs": []
    },
    {
      "cell_type": "code",
      "metadata": {
        "id": "v_RAQYzEpUk3"
      },
      "source": [
        "a_file = open(\"/content/drive/MyDrive/Colab Notebooks/Case_study_1/brand_price_median.pkl\", \"rb\")\n",
        "output = pickle.load(a_file)"
      ],
      "execution_count": null,
      "outputs": []
    },
    {
      "cell_type": "code",
      "metadata": {
        "id": "XU2HeuQIz3eC"
      },
      "source": [
        "brand_price_median = output"
      ],
      "execution_count": null,
      "outputs": []
    },
    {
      "cell_type": "code",
      "metadata": {
        "id": "vg0Qu9BV05dO"
      },
      "source": [
        "def dict_fun2(x):\n",
        "  \"\"\"\n",
        "  A function for calculating median brand price feature based on brand name\n",
        "  \n",
        "  \"\"\"\n",
        "  if x in brand_price_median.keys():\n",
        "    return brand_price_median[x]\n",
        "  else:\n",
        "    return brand_price_median['missing']"
      ],
      "execution_count": null,
      "outputs": []
    },
    {
      "cell_type": "code",
      "metadata": {
        "id": "hwYQZqRZ1gCv"
      },
      "source": [
        "train_data['medain_brand_price'] = train_data['brand_name'].apply(dict_fun2)"
      ],
      "execution_count": null,
      "outputs": []
    },
    {
      "cell_type": "code",
      "metadata": {
        "id": "HHFmKVNezwRP"
      },
      "source": [
        "train_data.to_pickle('/content/drive/MyDrive/Colab Notebooks/Case_study_1/train_data.pkl')"
      ],
      "execution_count": null,
      "outputs": []
    },
    {
      "cell_type": "code",
      "metadata": {
        "id": "88SjYxYD9_Jl"
      },
      "source": [
        "train_data = pd.read_pickle('/content/drive/MyDrive/Colab Notebooks/Case_study_1/train_data.pkl')"
      ],
      "execution_count": null,
      "outputs": []
    },
    {
      "cell_type": "code",
      "metadata": {
        "colab": {
          "base_uri": "https://localhost:8080/",
          "height": 442
        },
        "id": "PJYVn-eA9biO",
        "outputId": "564921d0-f7dd-4111-a962-f151bc275d0f"
      },
      "source": [
        "train_data.head()"
      ],
      "execution_count": null,
      "outputs": [
        {
          "output_type": "execute_result",
          "data": {
            "text/html": [
              "<div>\n",
              "<style scoped>\n",
              "    .dataframe tbody tr th:only-of-type {\n",
              "        vertical-align: middle;\n",
              "    }\n",
              "\n",
              "    .dataframe tbody tr th {\n",
              "        vertical-align: top;\n",
              "    }\n",
              "\n",
              "    .dataframe thead th {\n",
              "        text-align: right;\n",
              "    }\n",
              "</style>\n",
              "<table border=\"1\" class=\"dataframe\">\n",
              "  <thead>\n",
              "    <tr style=\"text-align: right;\">\n",
              "      <th></th>\n",
              "      <th>train_id</th>\n",
              "      <th>name</th>\n",
              "      <th>item_condition_id</th>\n",
              "      <th>brand_name</th>\n",
              "      <th>price</th>\n",
              "      <th>shipping</th>\n",
              "      <th>item_description</th>\n",
              "      <th>cat_1</th>\n",
              "      <th>cat_2</th>\n",
              "      <th>cat_3</th>\n",
              "      <th>pricing_cat</th>\n",
              "      <th>medain_brand_price</th>\n",
              "    </tr>\n",
              "  </thead>\n",
              "  <tbody>\n",
              "    <tr>\n",
              "      <th>0</th>\n",
              "      <td>0</td>\n",
              "      <td>MLB Cincinnati Reds T Shirt Size XL</td>\n",
              "      <td>3</td>\n",
              "      <td>MLB</td>\n",
              "      <td>10.0</td>\n",
              "      <td>1</td>\n",
              "      <td>No description yet</td>\n",
              "      <td>Men</td>\n",
              "      <td>Tops</td>\n",
              "      <td>T-shirts</td>\n",
              "      <td>affordable</td>\n",
              "      <td>10.0</td>\n",
              "    </tr>\n",
              "    <tr>\n",
              "      <th>1</th>\n",
              "      <td>1</td>\n",
              "      <td>Razer BlackWidow Chroma Keyboard</td>\n",
              "      <td>3</td>\n",
              "      <td>Razer</td>\n",
              "      <td>52.0</td>\n",
              "      <td>0</td>\n",
              "      <td>This keyboard is in great condition and works ...</td>\n",
              "      <td>Electronics</td>\n",
              "      <td>Computers &amp; Tablets</td>\n",
              "      <td>Components &amp; Parts</td>\n",
              "      <td>expensive</td>\n",
              "      <td>37.5</td>\n",
              "    </tr>\n",
              "    <tr>\n",
              "      <th>2</th>\n",
              "      <td>2</td>\n",
              "      <td>AVA-VIV Blouse</td>\n",
              "      <td>1</td>\n",
              "      <td>Target</td>\n",
              "      <td>10.0</td>\n",
              "      <td>1</td>\n",
              "      <td>Adorable top with a hint of lace and a key hol...</td>\n",
              "      <td>Women</td>\n",
              "      <td>Tops &amp; Blouses</td>\n",
              "      <td>Blouse</td>\n",
              "      <td>affordable</td>\n",
              "      <td>12.0</td>\n",
              "    </tr>\n",
              "    <tr>\n",
              "      <th>3</th>\n",
              "      <td>3</td>\n",
              "      <td>Leather Horse Statues</td>\n",
              "      <td>1</td>\n",
              "      <td>missing</td>\n",
              "      <td>35.0</td>\n",
              "      <td>1</td>\n",
              "      <td>New with tags. Leather horses. Retail for [rm]...</td>\n",
              "      <td>Home</td>\n",
              "      <td>Home Décor</td>\n",
              "      <td>Home Décor Accents</td>\n",
              "      <td>affordable</td>\n",
              "      <td>14.0</td>\n",
              "    </tr>\n",
              "    <tr>\n",
              "      <th>4</th>\n",
              "      <td>4</td>\n",
              "      <td>24K GOLD plated rose</td>\n",
              "      <td>1</td>\n",
              "      <td>Complete</td>\n",
              "      <td>44.0</td>\n",
              "      <td>0</td>\n",
              "      <td>Complete with certificate of authenticity</td>\n",
              "      <td>Women</td>\n",
              "      <td>Jewelry</td>\n",
              "      <td>Necklaces</td>\n",
              "      <td>affordable</td>\n",
              "      <td>19.0</td>\n",
              "    </tr>\n",
              "  </tbody>\n",
              "</table>\n",
              "</div>"
            ],
            "text/plain": [
              "   train_id  ... medain_brand_price\n",
              "0         0  ...               10.0\n",
              "1         1  ...               37.5\n",
              "2         2  ...               12.0\n",
              "3         3  ...               14.0\n",
              "4         4  ...               19.0\n",
              "\n",
              "[5 rows x 12 columns]"
            ]
          },
          "metadata": {
            "tags": []
          },
          "execution_count": 20
        }
      ]
    },
    {
      "cell_type": "markdown",
      "metadata": {
        "id": "O0h-nRPmEkdT"
      },
      "source": [
        "# Exploratory data analysis (EDA)"
      ]
    },
    {
      "cell_type": "markdown",
      "metadata": {
        "id": "zNvL3D5TM7Sj"
      },
      "source": [
        "## Price"
      ]
    },
    {
      "cell_type": "code",
      "metadata": {
        "colab": {
          "base_uri": "https://localhost:8080/"
        },
        "id": "KhOJzbYPOCmo",
        "outputId": "a77ae14f-8ed6-4b22-d95a-1130152b3568"
      },
      "source": [
        "train_data['price'].describe()"
      ],
      "execution_count": null,
      "outputs": [
        {
          "output_type": "execute_result",
          "data": {
            "text/plain": [
              "count    1.481661e+06\n",
              "mean     2.675329e+01\n",
              "std      3.859198e+01\n",
              "min      3.000000e+00\n",
              "25%      1.000000e+01\n",
              "50%      1.700000e+01\n",
              "75%      2.900000e+01\n",
              "max      2.009000e+03\n",
              "Name: price, dtype: float64"
            ]
          },
          "metadata": {
            "tags": []
          },
          "execution_count": 7
        }
      ]
    },
    {
      "cell_type": "markdown",
      "metadata": {
        "id": "AdZz-a0cGIxJ"
      },
      "source": [
        "It is seen from the above information that the mean price in the data is only 26.753, whereas the maximum priceis very huge i.e 2009/- which indiacates that the distribution is highly skewed."
      ]
    },
    {
      "cell_type": "code",
      "metadata": {
        "colab": {
          "base_uri": "https://localhost:8080/",
          "height": 334
        },
        "id": "8h2OaJOOM9K6",
        "outputId": "4b0a7b52-1a0b-41ff-859d-544da3e55e91"
      },
      "source": [
        "sns.set_style('whitegrid')\n",
        "plt.figure(figsize=(10, 5))\n",
        "sns.kdeplot(train_data['price'])\n",
        "plt.show()"
      ],
      "execution_count": null,
      "outputs": [
        {
          "output_type": "display_data",
          "data": {
            "image/png": "[encoded data removed]",
            "text/plain": [
              "<Figure size 720x360 with 1 Axes>"
            ]
          },
          "metadata": {
            "tags": []
          }
        }
      ]
    },
    {
      "cell_type": "markdown",
      "metadata": {
        "id": "N17UB9PMGlG6"
      },
      "source": [
        "From the above plot of disribution, it is very clear that the maximum number of examples have the price less than or equal to 50, whereas very few examples have price in the range of 50 to 2000. It indicates that the distribution is highly skewed. Thus, there there are very less chances of errors on low price exaples and very high chances of getting errors on high price exaamples. Hence scaling of the target variable might be neccessary. (eg. log(price))"
      ]
    },
    {
      "cell_type": "code",
      "metadata": {
        "colab": {
          "base_uri": "https://localhost:8080/"
        },
        "id": "cQhZw7RAM9Fs",
        "outputId": "c2f0f91b-c8ec-40d7-e2c1-e9883bf7192f"
      },
      "source": [
        "for i in range(0, 110, 10):\n",
        "  a = 0\n",
        "  a = train_data['price'].quantile(i/100)\n",
        "  print('{} th percetile is {}'.format(i, a))"
      ],
      "execution_count": null,
      "outputs": [
        {
          "output_type": "stream",
          "text": [
            "0 th percetile is 3.0\n",
            "10 th percetile is 7.0\n",
            "20 th percetile is 10.0\n",
            "30 th percetile is 12.0\n",
            "40 th percetile is 14.0\n",
            "50 th percetile is 17.0\n",
            "60 th percetile is 20.0\n",
            "70 th percetile is 26.0\n",
            "80 th percetile is 34.0\n",
            "90 th percetile is 51.0\n",
            "100 th percetile is 2009.0\n"
          ],
          "name": "stdout"
        }
      ]
    },
    {
      "cell_type": "markdown",
      "metadata": {
        "id": "SpRTVFhuHNog"
      },
      "source": [
        "The same information can be obtained from the percentile values also. 90 % of examples have price less than or equal to 51."
      ]
    },
    {
      "cell_type": "markdown",
      "metadata": {
        "id": "EDqVcDDWE34_"
      },
      "source": [
        "## Item comdition ID"
      ]
    },
    {
      "cell_type": "code",
      "metadata": {
        "colab": {
          "base_uri": "https://localhost:8080/",
          "height": 297
        },
        "id": "egEUPwDGExo4",
        "outputId": "d96f8ae0-af66-44e4-8292-0529f07a9bdc"
      },
      "source": [
        "sns.countplot(x='item_condition_id', data=train_data, order = train_data['item_condition_id'].value_counts().index)"
      ],
      "execution_count": null,
      "outputs": [
        {
          "output_type": "execute_result",
          "data": {
            "text/plain": [
              "<matplotlib.axes._subplots.AxesSubplot at 0x7fca9dbf4410>"
            ]
          },
          "metadata": {
            "tags": []
          },
          "execution_count": 14
        },
        {
          "output_type": "display_data",
          "data": {
            "image/png": "[encoded data removed]",
            "text/plain": [
              "<Figure size 432x288 with 1 Axes>"
            ]
          },
          "metadata": {
            "tags": []
          }
        }
      ]
    },
    {
      "cell_type": "markdown",
      "metadata": {
        "id": "IUiU87a7JVBw"
      },
      "source": [
        "The above figure indicates that highest no. of examples are from item condition id of1 followed by id 3, the lowest no of items are for item condition id 5."
      ]
    },
    {
      "cell_type": "code",
      "metadata": {
        "colab": {
          "base_uri": "https://localhost:8080/",
          "height": 335
        },
        "id": "3mggodRrCdUS",
        "outputId": "0a0165d2-6acc-497d-ceab-d24b706af634"
      },
      "source": [
        "sns.set_style('whitegrid')\n",
        "plt.figure(figsize=(10, 5))\n",
        "sns.boxplot(x='item_condition_id', y='price', data=train_data, showfliers=False)\n",
        "plt.show()"
      ],
      "execution_count": null,
      "outputs": [
        {
          "output_type": "display_data",
          "data": {
            "image/png": "[encoded data removed]",
            "text/plain": [
              "<Figure size 720x360 with 1 Axes>"
            ]
          },
          "metadata": {
            "tags": []
          }
        }
      ]
    },
    {
      "cell_type": "markdown",
      "metadata": {
        "id": "1JE66LCrJ0Bb"
      },
      "source": [
        "The above figure indicates the inter quantile range of price of different item condition ids examples and it can be seen that for all item condition ids, the range is almost similar only the id 5 has somewhat higher range."
      ]
    },
    {
      "cell_type": "code",
      "metadata": {
        "id": "WfnHYY3MXAom"
      },
      "source": [
        "df = train_data.groupby('item_condition_id').mean().reset_index()"
      ],
      "execution_count": null,
      "outputs": []
    },
    {
      "cell_type": "code",
      "metadata": {
        "colab": {
          "base_uri": "https://localhost:8080/",
          "height": 296
        },
        "id": "TvnCegz6TFUi",
        "outputId": "0adaad0d-6a89-4227-f5b0-7979874b34ad"
      },
      "source": [
        "sns.barplot(x='item_condition_id', y='price', data=df, order=df.sort_values('price', ascending=False).item_condition_id)\n",
        "plt.title('Mean price for item_condition_id')\n",
        "plt.show()"
      ],
      "execution_count": null,
      "outputs": [
        {
          "output_type": "display_data",
          "data": {
            "image/png": "[encoded data removed]",
            "text/plain": [
              "<Figure size 432x288 with 1 Axes>"
            ]
          },
          "metadata": {
            "tags": []
          }
        }
      ]
    },
    {
      "cell_type": "markdown",
      "metadata": {
        "id": "xV6dBmu5KW-o"
      },
      "source": [
        "Fig. shows the mean price of examples for all item condition ids, the maximum mean price is for item condition id 5 and least is for id 4."
      ]
    },
    {
      "cell_type": "markdown",
      "metadata": {
        "id": "PcJ1ndaZHZlF"
      },
      "source": [
        "## Brand name"
      ]
    },
    {
      "cell_type": "code",
      "metadata": {
        "colab": {
          "base_uri": "https://localhost:8080/"
        },
        "id": "6RNQrv_UFsGc",
        "outputId": "ab9102f5-b2ff-42b3-dbd6-7c515bcafb12"
      },
      "source": [
        "train_data['brand_name'].describe()"
      ],
      "execution_count": null,
      "outputs": [
        {
          "output_type": "execute_result",
          "data": {
            "text/plain": [
              "count     1481661\n",
              "unique       4808\n",
              "top       missing\n",
              "freq       419897\n",
              "Name: brand_name, dtype: object"
            ]
          },
          "metadata": {
            "tags": []
          },
          "execution_count": 29
        }
      ]
    },
    {
      "cell_type": "code",
      "metadata": {
        "colab": {
          "base_uri": "https://localhost:8080/",
          "height": 337
        },
        "id": "NOPLXNlQIEos",
        "outputId": "98e840c8-643d-4295-90b8-02d9b4bc7ffc"
      },
      "source": [
        "brand_count = Counter(list(train_data.brand_name.values))\n",
        "x, y = zip(*brand_count.most_common(15))\n",
        "plt.figure(figsize=(20, 5))\n",
        "plt.bar(x, y)"
      ],
      "execution_count": null,
      "outputs": [
        {
          "output_type": "execute_result",
          "data": {
            "text/plain": [
              "<BarContainer object of 15 artists>"
            ]
          },
          "metadata": {
            "tags": []
          },
          "execution_count": 30
        },
        {
          "output_type": "display_data",
          "data": {
            "image/png": "[encoded data removed]",
            "text/plain": [
              "<Figure size 1440x360 with 1 Axes>"
            ]
          },
          "metadata": {
            "tags": []
          }
        }
      ]
    },
    {
      "cell_type": "markdown",
      "metadata": {
        "id": "sJgj4BXKK1ko"
      },
      "source": [
        "Selecting top 15 brands based on their counts and plotting their no of counts. It is seen that the brand name is missing for the highest no of examples. PINK, Nike, and Victoria's secret are top 3 brands of which no of examples are highest."
      ]
    },
    {
      "cell_type": "code",
      "metadata": {
        "id": "wkNpgYNYIky4"
      },
      "source": [
        "x_lst = list(x)"
      ],
      "execution_count": null,
      "outputs": []
    },
    {
      "cell_type": "code",
      "metadata": {
        "colab": {
          "base_uri": "https://localhost:8080/"
        },
        "id": "_7b-jBIfKUGJ",
        "outputId": "f87ef682-166c-40f6-c0cc-04363e943edc"
      },
      "source": [
        "train_data_mod = train_data[train_data['brand_name'].isin(x_lst)]\n",
        "train_data_mod.shape"
      ],
      "execution_count": null,
      "outputs": [
        {
          "output_type": "execute_result",
          "data": {
            "text/plain": [
              "(777105, 12)"
            ]
          },
          "metadata": {
            "tags": []
          },
          "execution_count": 32
        }
      ]
    },
    {
      "cell_type": "code",
      "metadata": {
        "colab": {
          "base_uri": "https://localhost:8080/",
          "height": 338
        },
        "id": "tzVCFq_WMFps",
        "outputId": "b529faa1-11ca-445b-82a5-d32879f728de"
      },
      "source": [
        "sns.set_style('whitegrid')\n",
        "plt.figure(figsize=(20, 5))\n",
        "sns.boxplot(x='brand_name', y='price', data=train_data_mod, showfliers=False)\n",
        "plt.show()"
      ],
      "execution_count": null,
      "outputs": [
        {
          "output_type": "display_data",
          "data": {
            "image/png": "[encoded data removed]",
            "text/plain": [
              "<Figure size 1440x360 with 1 Axes>"
            ]
          },
          "metadata": {
            "tags": []
          }
        }
      ]
    },
    {
      "cell_type": "markdown",
      "metadata": {
        "id": "w6FRx4I1MNy5"
      },
      "source": [
        "Fig shows the inter quantile range range of price for top 15 brand names. It can be seen that for almost all brands the range fall in the same interval, only Apple and Michael Kors have somewhat high range."
      ]
    },
    {
      "cell_type": "code",
      "metadata": {
        "id": "UqwvCMdtbBVz"
      },
      "source": [
        "df = train_data_mod.groupby('brand_name').mean().reset_index()"
      ],
      "execution_count": null,
      "outputs": []
    },
    {
      "cell_type": "code",
      "metadata": {
        "colab": {
          "base_uri": "https://localhost:8080/",
          "height": 351
        },
        "id": "TFAE8CGubCdB",
        "outputId": "9c0a54f4-7ce1-45f0-d053-99f84060d216"
      },
      "source": [
        "plt.figure(figsize=(20, 5))\n",
        "sns.barplot(x='brand_name', y='price', data=df, order=df.sort_values('price', ascending=False).brand_name)\n",
        "plt.title('Mean price for brand_name')\n",
        "plt.show()"
      ],
      "execution_count": null,
      "outputs": [
        {
          "output_type": "display_data",
          "data": {
            "image/png": "[encoded data removed]",
            "text/plain": [
              "<Figure size 1440x360 with 1 Axes>"
            ]
          },
          "metadata": {
            "tags": []
          }
        }
      ]
    },
    {
      "cell_type": "markdown",
      "metadata": {
        "id": "Si8ypShJMvpo"
      },
      "source": [
        "Fig shows the mean price of examples of top 15 brand names. Apple and Michael Kors have the highest two mean price of the other brands."
      ]
    },
    {
      "cell_type": "markdown",
      "metadata": {
        "id": "IRGOw-CWKvnO"
      },
      "source": [
        "## Shipping"
      ]
    },
    {
      "cell_type": "code",
      "metadata": {
        "colab": {
          "base_uri": "https://localhost:8080/",
          "height": 296
        },
        "id": "170Z0S_SHTsr",
        "outputId": "01869a5c-2fd0-44fd-a33a-daa7f25aecb3"
      },
      "source": [
        "sns.countplot(x='shipping', data=train_data)"
      ],
      "execution_count": null,
      "outputs": [
        {
          "output_type": "execute_result",
          "data": {
            "text/plain": [
              "<matplotlib.axes._subplots.AxesSubplot at 0x7f432fc32810>"
            ]
          },
          "metadata": {
            "tags": []
          },
          "execution_count": 29
        },
        {
          "output_type": "display_data",
          "data": {
            "image/png": "[encoded data removed]",
            "text/plain": [
              "<Figure size 432x288 with 1 Axes>"
            ]
          },
          "metadata": {
            "tags": []
          }
        }
      ]
    },
    {
      "cell_type": "markdown",
      "metadata": {
        "id": "cZSfpO8MNCoV"
      },
      "source": [
        "Fig shows the no of examples based on the shipping category, means whether the shipping charge is given be seller or buyer. It is seen that the no of examples with shipping category zero are somewhat higher than shipping category one."
      ]
    },
    {
      "cell_type": "code",
      "metadata": {
        "colab": {
          "base_uri": "https://localhost:8080/",
          "height": 334
        },
        "id": "s3nCZSOVI_tB",
        "outputId": "4b9a724d-f59e-4683-a787-8c53c14353f3"
      },
      "source": [
        "sns.set_style('whitegrid')\n",
        "plt.figure(figsize=(10, 5))\n",
        "sns.boxplot(x='shipping', y='price', data=train_data, showfliers=False)\n",
        "plt.show()"
      ],
      "execution_count": null,
      "outputs": [
        {
          "output_type": "display_data",
          "data": {
            "image/png": "[encoded data removed]",
            "text/plain": [
              "<Figure size 720x360 with 1 Axes>"
            ]
          },
          "metadata": {
            "tags": []
          }
        }
      ]
    },
    {
      "cell_type": "markdown",
      "metadata": {
        "id": "FO9wG6W8NnE5"
      },
      "source": [
        "The inter quantile range of examples with shipping category 0 is somewhat higher than with that of shipping category 1."
      ]
    },
    {
      "cell_type": "code",
      "metadata": {
        "colab": {
          "base_uri": "https://localhost:8080/",
          "height": 295
        },
        "id": "Bjh6D376K2nk",
        "outputId": "04bc2f50-9888-4e58-d1f2-d5ee6a96d9dd"
      },
      "source": [
        "sns.barplot(x='shipping', y='price', data=train_data)\n",
        "plt.title('Mean price for shipping')\n",
        "plt.show()"
      ],
      "execution_count": null,
      "outputs": [
        {
          "output_type": "display_data",
          "data": {
            "image/png": "[encoded data removed]",
            "text/plain": [
              "<Figure size 432x288 with 1 Axes>"
            ]
          },
          "metadata": {
            "tags": []
          }
        }
      ]
    },
    {
      "cell_type": "markdown",
      "metadata": {
        "id": "K0DDGFgTOJwL"
      },
      "source": [
        "The mean price for examples with shipping category zero is higher than that of shipping category one."
      ]
    },
    {
      "cell_type": "markdown",
      "metadata": {
        "id": "H66zdB5GLTO6"
      },
      "source": [
        "## Category_1"
      ]
    },
    {
      "cell_type": "code",
      "metadata": {
        "colab": {
          "base_uri": "https://localhost:8080/",
          "height": 352
        },
        "id": "e9Bu-ghyPGCZ",
        "outputId": "2037c8c2-54cc-4fd9-c0c0-3db58ad40d92"
      },
      "source": [
        "plt.figure(figsize=(20, 5))\n",
        "sns.countplot(x='cat_1', data=train_data, order = train_data['cat_1'].value_counts().index)"
      ],
      "execution_count": null,
      "outputs": [
        {
          "output_type": "execute_result",
          "data": {
            "text/plain": [
              "<matplotlib.axes._subplots.AxesSubplot at 0x7fea69b3cbd0>"
            ]
          },
          "metadata": {
            "tags": []
          },
          "execution_count": 29
        },
        {
          "output_type": "display_data",
          "data": {
            "image/png": "[encoded data removed]",
            "text/plain": [
              "<Figure size 1440x360 with 1 Axes>"
            ]
          },
          "metadata": {
            "tags": []
          }
        }
      ]
    },
    {
      "cell_type": "markdown",
      "metadata": {
        "id": "Bg6jkOzbQkUt"
      },
      "source": [
        "It is clear from the above fig that the highest no of examples are from Women category, followed by beuty and kids. The no of examples from Men category are failry less. It indicates that the dataset contains large no of products related to Womens."
      ]
    },
    {
      "cell_type": "code",
      "metadata": {
        "id": "eKUwgfyIcFiw"
      },
      "source": [
        "df = train_data.groupby('cat_1').mean().reset_index()"
      ],
      "execution_count": null,
      "outputs": []
    },
    {
      "cell_type": "code",
      "metadata": {
        "colab": {
          "base_uri": "https://localhost:8080/",
          "height": 351
        },
        "id": "_M3wGuTkLg4l",
        "outputId": "90dd444c-57ab-4f82-d501-bdb4a679ab4a"
      },
      "source": [
        "plt.figure(figsize=(20, 5))\n",
        "sns.barplot(x='cat_1', y='price', data=df, order=df.sort_values('price', ascending=False).cat_1)\n",
        "plt.title('Mean price for cat_1')\n",
        "plt.show()"
      ],
      "execution_count": null,
      "outputs": [
        {
          "output_type": "display_data",
          "data": {
            "image/png": "[encoded data removed]",
            "text/plain": [
              "<Figure size 1440x360 with 1 Axes>"
            ]
          },
          "metadata": {
            "tags": []
          }
        }
      ]
    },
    {
      "cell_type": "markdown",
      "metadata": {
        "id": "oHYj9pU7RnDd"
      },
      "source": [
        "Fig shows the higest mean price is for Electronics products the lowest is for handmade products which is logical."
      ]
    },
    {
      "cell_type": "markdown",
      "metadata": {
        "id": "0jCKrVirMuCz"
      },
      "source": [
        "## Category_2"
      ]
    },
    {
      "cell_type": "code",
      "metadata": {
        "colab": {
          "base_uri": "https://localhost:8080/",
          "height": 339
        },
        "id": "jynZw5nlSSwo",
        "outputId": "39accfa5-0345-42ae-b91b-6e3eb20547c5"
      },
      "source": [
        "cat_2_count = Counter(list(train_data['cat_2'].values))\n",
        "x, y = zip(*cat_2_count.most_common(15))\n",
        "plt.figure(figsize=(20, 5))\n",
        "plt.bar(x, y)"
      ],
      "execution_count": null,
      "outputs": [
        {
          "output_type": "execute_result",
          "data": {
            "text/plain": [
              "<BarContainer object of 15 artists>"
            ]
          },
          "metadata": {
            "tags": []
          },
          "execution_count": 35
        },
        {
          "output_type": "display_data",
          "data": {
            "image/png": "[encoded data removed]",
            "text/plain": [
              "<Figure size 1440x360 with 1 Axes>"
            ]
          },
          "metadata": {
            "tags": []
          }
        }
      ]
    },
    {
      "cell_type": "markdown",
      "metadata": {
        "id": "qRUUDKYnSlo2"
      },
      "source": [
        "Top 15 cat_2 examples have been taken and their count plot is plotted. It is seen that the highest no of examples is of Athletic type followed by Makeup, Tops and Bouses. "
      ]
    },
    {
      "cell_type": "code",
      "metadata": {
        "id": "v0g2QoBoTZLs"
      },
      "source": [
        "x_lst = list(x)"
      ],
      "execution_count": null,
      "outputs": []
    },
    {
      "cell_type": "code",
      "metadata": {
        "colab": {
          "base_uri": "https://localhost:8080/"
        },
        "id": "GCSFdzO5TZLt",
        "outputId": "6c86981c-2892-47b4-ce12-e6c71b1c653b"
      },
      "source": [
        "train_data_mod = train_data[train_data['cat_2'].isin(x_lst)]\n",
        "train_data_mod.shape"
      ],
      "execution_count": null,
      "outputs": [
        {
          "output_type": "execute_result",
          "data": {
            "text/plain": [
              "(944529, 11)"
            ]
          },
          "metadata": {
            "tags": []
          },
          "execution_count": 37
        }
      ]
    },
    {
      "cell_type": "code",
      "metadata": {
        "id": "9imsG1o0cimM"
      },
      "source": [
        "df = train_data_mod.groupby('cat_2').mean().reset_index()"
      ],
      "execution_count": null,
      "outputs": []
    },
    {
      "cell_type": "code",
      "metadata": {
        "colab": {
          "base_uri": "https://localhost:8080/",
          "height": 1000
        },
        "id": "toi1iR3JMuDN",
        "outputId": "f38398d1-901b-4936-fcac-e33147416ef3"
      },
      "source": [
        "plt.figure(figsize=(10, 20))\n",
        "sns.barplot(y='cat_2', x='price', data=df, order=df.sort_values('price', ascending=False).cat_2)\n",
        "plt.title('Mean price for cat_2')\n",
        "plt.show()"
      ],
      "execution_count": null,
      "outputs": [
        {
          "output_type": "display_data",
          "data": {
            "image/png": "[encoded data removed]",
            "text/plain": [
              "<Figure size 720x1440 with 1 Axes>"
            ]
          },
          "metadata": {
            "tags": []
          }
        }
      ]
    },
    {
      "cell_type": "markdown",
      "metadata": {
        "id": "3uH2gtw8UBj2"
      },
      "source": [
        "It can be seen that the highest price is for Women's handbag category followed by shoes and Women's accesories."
      ]
    },
    {
      "cell_type": "markdown",
      "metadata": {
        "id": "5CcA85oZMx0j"
      },
      "source": [
        "## Category_3"
      ]
    },
    {
      "cell_type": "code",
      "metadata": {
        "colab": {
          "base_uri": "https://localhost:8080/",
          "height": 337
        },
        "id": "GDgp_yA6Ui7M",
        "outputId": "0a7cfa5d-9b90-4582-e06c-7281ff580c30"
      },
      "source": [
        "cat_3_count = Counter(list(train_data['cat_3'].values))\n",
        "x, y = zip(*cat_3_count.most_common(15))\n",
        "plt.figure(figsize=(20, 5))\n",
        "plt.bar(x, y)"
      ],
      "execution_count": null,
      "outputs": [
        {
          "output_type": "execute_result",
          "data": {
            "text/plain": [
              "<BarContainer object of 15 artists>"
            ]
          },
          "metadata": {
            "tags": []
          },
          "execution_count": 40
        },
        {
          "output_type": "display_data",
          "data": {
            "image/png": "[encoded data removed]",
            "text/plain": [
              "<Figure size 1440x360 with 1 Axes>"
            ]
          },
          "metadata": {
            "tags": []
          }
        }
      ]
    },
    {
      "cell_type": "markdown",
      "metadata": {
        "id": "g9xJbrHhU_q7"
      },
      "source": [
        "Top 15 cat_3 examples based on their counts have been taken and their count plot is plotted. It is seen that highest no of examples are of Pants, tights, followed by others and face items and T-shits."
      ]
    },
    {
      "cell_type": "code",
      "metadata": {
        "id": "ZM1AuWzSV62Z"
      },
      "source": [
        "x_lst = list(x)"
      ],
      "execution_count": null,
      "outputs": []
    },
    {
      "cell_type": "code",
      "metadata": {
        "colab": {
          "base_uri": "https://localhost:8080/"
        },
        "id": "rFl2yNuzV63M",
        "outputId": "3246ba8b-67dd-4ead-8e83-da1802f83232"
      },
      "source": [
        "train_data_mod = train_data[train_data['cat_3'].isin(x_lst)]\n",
        "train_data_mod.shape"
      ],
      "execution_count": null,
      "outputs": [
        {
          "output_type": "execute_result",
          "data": {
            "text/plain": [
              "(482323, 11)"
            ]
          },
          "metadata": {
            "tags": []
          },
          "execution_count": 42
        }
      ]
    },
    {
      "cell_type": "code",
      "metadata": {
        "id": "MK36_bmSd3VO"
      },
      "source": [
        "df = train_data_mod.groupby('cat_3').mean().reset_index()"
      ],
      "execution_count": null,
      "outputs": []
    },
    {
      "cell_type": "code",
      "metadata": {
        "colab": {
          "base_uri": "https://localhost:8080/",
          "height": 1000
        },
        "id": "u-hjawDIMx0o",
        "outputId": "a4fece47-df04-459e-c0fa-2f2a8945d404"
      },
      "source": [
        "plt.figure(figsize=(10, 20))\n",
        "sns.barplot(y='cat_3', x='price', data=df, order=df.sort_values('price', ascending=False).cat_3)\n",
        "plt.title('Mean price for cat_3')\n",
        "plt.show()"
      ],
      "execution_count": null,
      "outputs": [
        {
          "output_type": "display_data",
          "data": {
            "image/png": "[encoded data removed]",
            "text/plain": [
              "<Figure size 720x1440 with 1 Axes>"
            ]
          },
          "metadata": {
            "tags": []
          }
        }
      ]
    },
    {
      "cell_type": "markdown",
      "metadata": {
        "id": "XyddL5OOWSrl"
      },
      "source": [
        "It can be seen that the highest price is for Atletic category of products, followed by boots, pants, tights and leggings."
      ]
    },
    {
      "cell_type": "markdown",
      "metadata": {
        "id": "nRZhE6klogPK"
      },
      "source": [
        "# Creating features for test data"
      ]
    },
    {
      "cell_type": "markdown",
      "metadata": {
        "id": "9f6DDVUT3Nnm"
      },
      "source": [
        "## Searching missing values of brand names in item name and item description."
      ]
    },
    {
      "cell_type": "code",
      "metadata": {
        "id": "GjXJPYpK37v3"
      },
      "source": [
        "test_data['brand_name_mod'] = test_data['brand_name']"
      ],
      "execution_count": null,
      "outputs": []
    },
    {
      "cell_type": "code",
      "metadata": {
        "id": "0vW10Fwma14X"
      },
      "source": [
        "brand_array = np.array(test_data['brand_name_mod'])\n",
        "name_array = np.array(test_data['name'])\n",
        "item_desc_array = np.array(test_data['item_description'])"
      ],
      "execution_count": null,
      "outputs": []
    },
    {
      "cell_type": "code",
      "metadata": {
        "id": "VSJH6MDga18m"
      },
      "source": [
        "for i in tqdm(range(len(brand_array))):\n",
        "  if brand_array[i] == 'missing':\n",
        "    a = name_array[i].split()\n",
        "    b = item_desc_array[i].split()\n",
        "    c = set(a+b)\n",
        "\n",
        "    for j in c:\n",
        "      if j in brand_set:\n",
        "        brand_array[i] = j"
      ],
      "execution_count": null,
      "outputs": []
    },
    {
      "cell_type": "code",
      "metadata": {
        "id": "WgaVgAtPa2By"
      },
      "source": [
        "test_data['brand_name_mod'] = brand_array"
      ],
      "execution_count": null,
      "outputs": []
    },
    {
      "cell_type": "code",
      "metadata": {
        "id": "pHkyrUFfdp-c"
      },
      "source": [
        "test_data['brand_name'] = test_data['brand_name_mod']\n",
        "test_data.drop('brand_name_mod', axis=1, inplace=True)"
      ],
      "execution_count": null,
      "outputs": []
    },
    {
      "cell_type": "markdown",
      "metadata": {
        "id": "gGM-hZ4c3DF-"
      },
      "source": [
        "## Creating feature as a pricing category cheap, affordable and expensive based on the percentile value"
      ]
    },
    {
      "cell_type": "code",
      "metadata": {
        "id": "09TldAQ3NCgg"
      },
      "source": [
        "test_data['pricing_cat'] = test_data['brand_name'].apply(dict_fun)"
      ],
      "execution_count": null,
      "outputs": []
    },
    {
      "cell_type": "markdown",
      "metadata": {
        "id": "bmCIPPFZ3k1a"
      },
      "source": [
        "## Creating feature as median of price for brand_name"
      ]
    },
    {
      "cell_type": "code",
      "metadata": {
        "id": "DW5u2lnW37v_"
      },
      "source": [
        "test_data['medain_brand_price'] = test_stg2_data['brand_name'].apply(dict_fun2)"
      ],
      "execution_count": null,
      "outputs": []
    },
    {
      "cell_type": "code",
      "metadata": {
        "id": "Xmi0LZ8XdqNG"
      },
      "source": [
        "test_data.to_pickle('/content/drive/MyDrive/Colab Notebooks/Case_study_1/test_stg2_data.pkl')"
      ],
      "execution_count": null,
      "outputs": []
    },
    {
      "cell_type": "code",
      "metadata": {
        "id": "PAWwGlWgzBdk"
      },
      "source": [
        "test_data = pd.read_pickle('/content/drive/MyDrive/Colab Notebooks/Case_study_1/test_stg2_data.pkl')"
      ],
      "execution_count": null,
      "outputs": []
    },
    {
      "cell_type": "code",
      "metadata": {
        "colab": {
          "base_uri": "https://localhost:8080/",
          "height": 455
        },
        "id": "BC2i0FUxzV4r",
        "outputId": "1911cd3a-7104-49ba-9506-d4f57edbcbf3"
      },
      "source": [
        "test_data.head()"
      ],
      "execution_count": null,
      "outputs": [
        {
          "output_type": "execute_result",
          "data": {
            "text/html": [
              "<div>\n",
              "<style scoped>\n",
              "    .dataframe tbody tr th:only-of-type {\n",
              "        vertical-align: middle;\n",
              "    }\n",
              "\n",
              "    .dataframe tbody tr th {\n",
              "        vertical-align: top;\n",
              "    }\n",
              "\n",
              "    .dataframe thead th {\n",
              "        text-align: right;\n",
              "    }\n",
              "</style>\n",
              "<table border=\"1\" class=\"dataframe\">\n",
              "  <thead>\n",
              "    <tr style=\"text-align: right;\">\n",
              "      <th></th>\n",
              "      <th>test_id</th>\n",
              "      <th>name</th>\n",
              "      <th>item_condition_id</th>\n",
              "      <th>brand_name</th>\n",
              "      <th>shipping</th>\n",
              "      <th>item_description</th>\n",
              "      <th>cat_1</th>\n",
              "      <th>cat_2</th>\n",
              "      <th>cat_3</th>\n",
              "      <th>pricing_cat</th>\n",
              "      <th>medain_brand_price</th>\n",
              "    </tr>\n",
              "  </thead>\n",
              "  <tbody>\n",
              "    <tr>\n",
              "      <th>0</th>\n",
              "      <td>0</td>\n",
              "      <td>Breast cancer \"I fight like a girl\" ring</td>\n",
              "      <td>1</td>\n",
              "      <td>missing</td>\n",
              "      <td>1</td>\n",
              "      <td>Size 7</td>\n",
              "      <td>Women</td>\n",
              "      <td>Jewelry</td>\n",
              "      <td>Rings</td>\n",
              "      <td>affordable</td>\n",
              "      <td>14.0</td>\n",
              "    </tr>\n",
              "    <tr>\n",
              "      <th>1</th>\n",
              "      <td>1</td>\n",
              "      <td>25 pcs NEW 7.5\"x12\" Kraft Bubble Mailers</td>\n",
              "      <td>1</td>\n",
              "      <td>missing</td>\n",
              "      <td>1</td>\n",
              "      <td>25 pcs NEW 7.5\"x12\" Kraft Bubble Mailers Lined...</td>\n",
              "      <td>Other</td>\n",
              "      <td>Office supplies</td>\n",
              "      <td>Shipping Supplies</td>\n",
              "      <td>affordable</td>\n",
              "      <td>14.0</td>\n",
              "    </tr>\n",
              "    <tr>\n",
              "      <th>2</th>\n",
              "      <td>2</td>\n",
              "      <td>Coach bag</td>\n",
              "      <td>1</td>\n",
              "      <td>Coach</td>\n",
              "      <td>1</td>\n",
              "      <td>Brand new coach bag. Bought for [rm] at a Coac...</td>\n",
              "      <td>Vintage &amp; Collectibles</td>\n",
              "      <td>Bags and Purses</td>\n",
              "      <td>Handbag</td>\n",
              "      <td>expensive</td>\n",
              "      <td>30.0</td>\n",
              "    </tr>\n",
              "    <tr>\n",
              "      <th>3</th>\n",
              "      <td>3</td>\n",
              "      <td>Floral Kimono</td>\n",
              "      <td>2</td>\n",
              "      <td>missing</td>\n",
              "      <td>0</td>\n",
              "      <td>-floral kimono -never worn -lightweight and pe...</td>\n",
              "      <td>Women</td>\n",
              "      <td>Sweaters</td>\n",
              "      <td>Cardigan</td>\n",
              "      <td>affordable</td>\n",
              "      <td>14.0</td>\n",
              "    </tr>\n",
              "    <tr>\n",
              "      <th>4</th>\n",
              "      <td>4</td>\n",
              "      <td>Life after Death</td>\n",
              "      <td>3</td>\n",
              "      <td>missing</td>\n",
              "      <td>1</td>\n",
              "      <td>Rediscovering life after the loss of a loved o...</td>\n",
              "      <td>Other</td>\n",
              "      <td>Books</td>\n",
              "      <td>Religion &amp; Spirituality</td>\n",
              "      <td>affordable</td>\n",
              "      <td>14.0</td>\n",
              "    </tr>\n",
              "  </tbody>\n",
              "</table>\n",
              "</div>"
            ],
            "text/plain": [
              "   test_id  ... medain_brand_price\n",
              "0        0  ...               14.0\n",
              "1        1  ...               14.0\n",
              "2        2  ...               30.0\n",
              "3        3  ...               14.0\n",
              "4        4  ...               14.0\n",
              "\n",
              "[5 rows x 11 columns]"
            ]
          },
          "metadata": {
            "tags": []
          },
          "execution_count": 26
        }
      ]
    },
    {
      "cell_type": "markdown",
      "metadata": {
        "id": "4wSR4wIlOuM6"
      },
      "source": [
        "# Base line approach"
      ]
    },
    {
      "cell_type": "markdown",
      "metadata": {
        "id": "peUrN-w9-Le4"
      },
      "source": [
        "Predicting the price of the product based on the median price of the brand of the product."
      ]
    },
    {
      "cell_type": "code",
      "metadata": {
        "id": "F1tdiUsD37wA"
      },
      "source": [
        "test_data_submission = test_data[['test_id', 'medain_brand_price']]"
      ],
      "execution_count": null,
      "outputs": []
    },
    {
      "cell_type": "code",
      "metadata": {
        "id": "89WYuEJu37wA"
      },
      "source": [
        "test_data_submission = test_data_submission.rename({'medain_brand_price':'price'}, axis=1)"
      ],
      "execution_count": null,
      "outputs": []
    },
    {
      "cell_type": "code",
      "metadata": {
        "colab": {
          "base_uri": "https://localhost:8080/",
          "height": 203
        },
        "id": "bMwBXmC_37wB",
        "outputId": "64c34d7b-4c26-4d6a-b414-5c54515f3b2e"
      },
      "source": [
        "test_data_submission.head()"
      ],
      "execution_count": null,
      "outputs": [
        {
          "output_type": "execute_result",
          "data": {
            "text/html": [
              "<div>\n",
              "<style scoped>\n",
              "    .dataframe tbody tr th:only-of-type {\n",
              "        vertical-align: middle;\n",
              "    }\n",
              "\n",
              "    .dataframe tbody tr th {\n",
              "        vertical-align: top;\n",
              "    }\n",
              "\n",
              "    .dataframe thead th {\n",
              "        text-align: right;\n",
              "    }\n",
              "</style>\n",
              "<table border=\"1\" class=\"dataframe\">\n",
              "  <thead>\n",
              "    <tr style=\"text-align: right;\">\n",
              "      <th></th>\n",
              "      <th>test_id</th>\n",
              "      <th>price</th>\n",
              "    </tr>\n",
              "  </thead>\n",
              "  <tbody>\n",
              "    <tr>\n",
              "      <th>0</th>\n",
              "      <td>0</td>\n",
              "      <td>14.0</td>\n",
              "    </tr>\n",
              "    <tr>\n",
              "      <th>1</th>\n",
              "      <td>1</td>\n",
              "      <td>14.0</td>\n",
              "    </tr>\n",
              "    <tr>\n",
              "      <th>2</th>\n",
              "      <td>2</td>\n",
              "      <td>30.0</td>\n",
              "    </tr>\n",
              "    <tr>\n",
              "      <th>3</th>\n",
              "      <td>3</td>\n",
              "      <td>14.0</td>\n",
              "    </tr>\n",
              "    <tr>\n",
              "      <th>4</th>\n",
              "      <td>4</td>\n",
              "      <td>14.0</td>\n",
              "    </tr>\n",
              "  </tbody>\n",
              "</table>\n",
              "</div>"
            ],
            "text/plain": [
              "   test_id  price\n",
              "0        0   14.0\n",
              "1        1   14.0\n",
              "2        2   30.0\n",
              "3        3   14.0\n",
              "4        4   14.0"
            ]
          },
          "metadata": {
            "tags": []
          },
          "execution_count": 91
        }
      ]
    },
    {
      "cell_type": "markdown",
      "metadata": {
        "id": "88fI7Fh7H6uV"
      },
      "source": [
        "# Preprocessing"
      ]
    },
    {
      "cell_type": "code",
      "metadata": {
        "id": "IaOg-pIJNr6k"
      },
      "source": [
        "import re\n",
        "from sklearn.preprocessing import LabelEncoder\n",
        "from sklearn.preprocessing import OrdinalEncoder\n",
        "from sklearn.feature_extraction.text import TfidfVectorizer\n",
        "from sklearn.feature_extraction.text import CountVectorizer"
      ],
      "execution_count": null,
      "outputs": []
    },
    {
      "cell_type": "code",
      "metadata": {
        "id": "HFdKlvZD6TT0"
      },
      "source": [
        "y_train = train_data['price'].values\n",
        "X_train = train_data.drop(['price'], axis=1)"
      ],
      "execution_count": null,
      "outputs": []
    },
    {
      "cell_type": "code",
      "metadata": {
        "id": "B6pfKN6a57Se"
      },
      "source": [
        "y_tr = np.log1p(train_data[\"price\"])"
      ],
      "execution_count": null,
      "outputs": []
    },
    {
      "cell_type": "code",
      "metadata": {
        "id": "695Qarlw57Sg"
      },
      "source": [
        "from numpy import savez_compressed\n",
        "savez_compressed('/content/drive/MyDrive/Colab Notebooks/Case_study_1/y_tr.npz', y_tr)"
      ],
      "execution_count": null,
      "outputs": []
    },
    {
      "cell_type": "code",
      "metadata": {
        "id": "XUGqxr-872Qw"
      },
      "source": [
        "X_test = test_data"
      ],
      "execution_count": null,
      "outputs": []
    },
    {
      "cell_type": "code",
      "metadata": {
        "id": "xMPqWC34JFwp"
      },
      "source": [
        "def preprocess(Input_text):\n",
        "\n",
        "  \"\"\"\n",
        "  A function for filtering the text data like removing numbers, non english words, punctuations, converting to lower case, etc.\n",
        "  \"\"\"\n",
        "\n",
        "  cleantext = ' '.join( [w for w in Input_text.split()[:60]] )\n",
        "  cleanr = re.compile('<.*?>')\n",
        "  cleantext = re.sub(cleanr, '', cleantext)\n",
        "  cleantext = re.sub(r'\\S*@\\S*\\s?', ' ', cleantext)\n",
        "  cleantext = re.sub(\"[\\(\\[].*?[\\)\\]]\", \"\", cleantext)\n",
        "  cleantext = re.sub(r'\\w+:\\s?','',cleantext)\n",
        "  cleantext = re.sub(r\"\\'m\", \" am\", cleantext)\n",
        "  cleantext = re.sub(r\"n\\'t\", \" not\", cleantext)\n",
        "  cleantext = re.sub(r\"\\'t\", \" not\", cleantext)\n",
        "  cleantext = re.sub(r\"\\'s\", \" is\", cleantext)\n",
        "  cleantext = re.sub(r\"\\'ve\", \" have\", cleantext)\n",
        "  cleantext = re.sub(r\"\\'re\", \" are\", cleantext)\n",
        "  cleantext = re.sub(r\"\\'ll\", \" will\", cleantext)\n",
        "  cleantext = re.sub(r\"won't\", \"will not\", cleantext)\n",
        "  cleantext = re.sub(r\"can\\'t\", \"can not\", cleantext)\n",
        "  cleantext = re.sub(r\"\\'d\", \" would\", cleantext)\n",
        "  cleantext = re.sub(r'[0-9]+', '', cleantext)\n",
        "  cleantext = cleantext.lower()\n",
        "  cleantext = re.sub(r'[^a-zA-Z]+', ' ', cleantext)\n",
        "\n",
        "  return cleantext"
      ],
      "execution_count": null,
      "outputs": []
    },
    {
      "cell_type": "markdown",
      "metadata": {
        "id": "4sz9qiry4LMr"
      },
      "source": [
        "## Preprocessing all the text and categorical features of train and test data"
      ]
    },
    {
      "cell_type": "code",
      "metadata": {
        "id": "_hdYLaJRNk2_"
      },
      "source": [
        "X_train['brand_name'] = X_train['brand_name'].apply(preprocess)\n",
        "X_test['brand_name'] = X_test['brand_name'].apply(preprocess)"
      ],
      "execution_count": null,
      "outputs": []
    },
    {
      "cell_type": "code",
      "metadata": {
        "id": "UiqDGdEXPs6I"
      },
      "source": [
        "X_train['name'] = X_train['name'].apply(preprocess)\n",
        "X_test['name'] = X_test['name'].apply(preprocess)"
      ],
      "execution_count": null,
      "outputs": []
    },
    {
      "cell_type": "code",
      "metadata": {
        "id": "U7mM2UjiP3ec"
      },
      "source": [
        "X_train['item_description'] = X_train['item_description'].apply(preprocess)\n",
        "X_test['item_description'] = X_test['item_description'].apply(preprocess)"
      ],
      "execution_count": null,
      "outputs": []
    },
    {
      "cell_type": "code",
      "metadata": {
        "id": "KfLg5TsyRU2W"
      },
      "source": [
        "X_train['cat_1'] = X_train['cat_1'].apply(preprocess)\n",
        "X_train['cat_2'] = X_train['cat_2'].apply(preprocess)\n",
        "X_train['cat_3'] = X_train['cat_3'].apply(preprocess)\n",
        "\n",
        "X_test['cat_1'] = X_test['cat_1'].apply(preprocess)\n",
        "X_test['cat_2'] = X_test['cat_2'].apply(preprocess)\n",
        "X_test['cat_3'] = X_test['cat_3'].apply(preprocess)"
      ],
      "execution_count": null,
      "outputs": []
    },
    {
      "cell_type": "code",
      "metadata": {
        "id": "Qs4rijDxDT9o"
      },
      "source": [
        "X_train.to_pickle('/content/drive/MyDrive/Colab Notebooks/Case_study_1/X_train.pkl')\n",
        "X_test.to_pickle('/content/drive/MyDrive/Colab Notebooks/Case_study_1/X_test.pkl')"
      ],
      "execution_count": null,
      "outputs": []
    },
    {
      "cell_type": "code",
      "metadata": {
        "id": "hW9a5EomDqhG"
      },
      "source": [
        "X_train = pd.read_pickle('/content/drive/MyDrive/Colab Notebooks/Case_study_1/X_train.pkl')\n",
        "X_test = pd.read_pickle('/content/drive/MyDrive/Colab Notebooks/Case_study_1/X_test.pkl')"
      ],
      "execution_count": null,
      "outputs": []
    },
    {
      "cell_type": "markdown",
      "metadata": {
        "id": "edD5TGeX4XjW"
      },
      "source": [
        "# Featurizing all categorical features using Label Encoder"
      ]
    },
    {
      "cell_type": "markdown",
      "metadata": {
        "id": "ZJbjqwCN4_cU"
      },
      "source": [
        "## Brand name"
      ]
    },
    {
      "cell_type": "code",
      "metadata": {
        "id": "iIJt1AMzzURx"
      },
      "source": [
        "print(\"=\"*100)\n",
        "print(\"After vectorizations\")\n",
        "\n",
        "brand_set1 = set(list(X_test['brand_name']) + list(X_train['brand_name']))\n",
        "brand_lst1 = list(brand_set1)\n",
        "\n",
        "label_encoder = LabelEncoder()\n",
        "\n",
        "label_encoder.fit(brand_lst1)\n",
        "X_train_brand_name_le = label_encoder.transform(X_train['brand_name'].values)\n",
        "X_test_brand_name_le = label_encoder.transform(X_test['brand_name'].values)\n",
        "\n",
        "X_train_brand_name_le = X_train_brand_name_le.reshape(-1,1)\n",
        "X_test_brand_name_le = X_test_brand_name_le.reshape(-1,1)\n",
        "\n",
        "\n",
        "print(X_train_brand_name_le.shape)\n",
        "print(X_test_brand_name_le.shape)"
      ],
      "execution_count": null,
      "outputs": []
    },
    {
      "cell_type": "markdown",
      "metadata": {
        "id": "RCaqfppR4vrx"
      },
      "source": [
        "## Shipping ID"
      ]
    },
    {
      "cell_type": "code",
      "metadata": {
        "id": "Yd5PZC6Bs9Nc"
      },
      "source": [
        "X_train_sh_id = np.array(X_train['shipping'])\n",
        "X_test_sh_id = np.array(X_test['shipping'])\n",
        "\n",
        "X_train_sh_id = X_train_sh_id.reshape(-1,1)\n",
        "X_test_sh_id = X_test_sh_id.reshape(-1,1)\n",
        "\n",
        "print(X_train_sh_id.shape)\n",
        "print(X_test_sh_id.shape)"
      ],
      "execution_count": null,
      "outputs": []
    },
    {
      "cell_type": "markdown",
      "metadata": {
        "id": "RwhCGNFv40dB"
      },
      "source": [
        "## Item condition ID"
      ]
    },
    {
      "cell_type": "code",
      "metadata": {
        "id": "nhJ0Qo8StM0O"
      },
      "source": [
        "X_train_ic_id = np.array(X_train['item_condition_id'])\n",
        "X_test_ic_id = np.array(X_test['item_condition_id'])\n",
        "\n",
        "X_train_ic_id = X_train_ic_id.reshape(-1,1)\n",
        "X_test_ic_id = X_test_ic_id.reshape(-1,1)\n",
        "\n",
        "print(X_train_ic_id.shape)\n",
        "print(X_test_ic_id.shape)"
      ],
      "execution_count": null,
      "outputs": []
    },
    {
      "cell_type": "markdown",
      "metadata": {
        "id": "ZK7EZjPt462j"
      },
      "source": [
        "## Median brand price"
      ]
    },
    {
      "cell_type": "code",
      "metadata": {
        "id": "PyfN1uKeta4o"
      },
      "source": [
        "X_train_mbp = np.array(X_train['medain_brand_price'])\n",
        "X_test_mbp = np.array(X_test['medain_brand_price'])\n",
        "\n",
        "X_train_mbp = X_train_mbp.reshape(-1,1)\n",
        "X_test_mbp = X_test_mbp.reshape(-1,1)\n",
        "\n",
        "print(X_train_mbp.shape)\n",
        "print(X_test_mbp.shape)"
      ],
      "execution_count": null,
      "outputs": []
    },
    {
      "cell_type": "markdown",
      "metadata": {
        "id": "ghdwSrG-4_U4"
      },
      "source": [
        "## Category 1"
      ]
    },
    {
      "cell_type": "code",
      "metadata": {
        "id": "uyJBsQymWIqX"
      },
      "source": [
        "print(\"=\"*100)\n",
        "print(\"After vectorizations\")\n",
        "\n",
        "label_encoder = LabelEncoder()\n",
        "\n",
        "label_encoder.fit(X_train['cat_1'].values)\n",
        "X_train_cat_1_le = label_encoder.transform(X_train['cat_1'].values)\n",
        "X_test_cat_1_le = label_encoder.transform(X_test['cat_1'].values)\n",
        "\n",
        "X_train_cat_1_le = X_train_cat_1_le.reshape(-1,1)\n",
        "X_test_cat_1_le = X_test_cat_1_le.reshape(-1,1)\n",
        "\n",
        "print(X_train_cat_1_le.shape)\n",
        "print(X_test_cat_1_le.shape)"
      ],
      "execution_count": null,
      "outputs": []
    },
    {
      "cell_type": "markdown",
      "metadata": {
        "id": "OgOzSsOc5DQs"
      },
      "source": [
        "## Category 2"
      ]
    },
    {
      "cell_type": "code",
      "metadata": {
        "id": "otIfOaSwWmwD"
      },
      "source": [
        "print(\"=\"*100)\n",
        "print(\"After vectorizations\")\n",
        "\n",
        "label_encoder = LabelEncoder()\n",
        "\n",
        "label_encoder.fit(X_train['cat_2'].values)\n",
        "X_train_cat_2_le = label_encoder.transform(X_train['cat_2'].values)\n",
        "X_test_cat_2_le = label_encoder.transform(X_test['cat_2'].values)\n",
        "\n",
        "X_train_cat_2_le = X_train_cat_2_le.reshape(-1,1)\n",
        "X_test_cat_2_le = X_test_cat_2_le.reshape(-1,1)\n",
        "\n",
        "print(X_train_cat_2_le.shape)\n",
        "print(X_test_cat_2_le.shape)"
      ],
      "execution_count": null,
      "outputs": []
    },
    {
      "cell_type": "markdown",
      "metadata": {
        "id": "rWrXFq_K5Fkt"
      },
      "source": [
        "## Category 3"
      ]
    },
    {
      "cell_type": "code",
      "metadata": {
        "id": "HuMireT6XaFZ"
      },
      "source": [
        "print(\"=\"*100)\n",
        "print(\"After vectorizations\")\n",
        "\n",
        "cat3_set1 = set(list(X_test['cat_3']) + list(X_train['cat_3']))\n",
        "cat3_lst1 = list(cat3_set1)\n",
        "\n",
        "label_encoder = LabelEncoder()\n",
        "\n",
        "label_encoder.fit(cat3_lst1)\n",
        "X_train_cat_3_le = label_encoder.transform(X_train['cat_3'].values)\n",
        "X_test_cat_3_le = label_encoder.transform(X_test['cat_3'].values)\n",
        "\n",
        "X_train_cat_3_le = X_train_cat_3_le.reshape(-1,1)\n",
        "X_test_cat_3_le = X_test_cat_3_le.reshape(-1,1)\n",
        "\n",
        "print(X_train_cat_3_le.shape)\n",
        "print(X_test_cat_3_le.shape)"
      ],
      "execution_count": null,
      "outputs": []
    },
    {
      "cell_type": "markdown",
      "metadata": {
        "id": "eVBDBePL5MMy"
      },
      "source": [
        "## Pricing category"
      ]
    },
    {
      "cell_type": "code",
      "metadata": {
        "id": "4C4j29RSXmt3"
      },
      "source": [
        "print(\"=\"*100)\n",
        "print(\"After vectorizations\")\n",
        "\n",
        "label_encoder = LabelEncoder()\n",
        "\n",
        "label_encoder.fit(X_train['pricing_cat'].values)\n",
        "X_train_pricing_cat_le = label_encoder.transform(X_train['pricing_cat'].values)\n",
        "X_test_pricing_cat_le = label_encoder.transform(X_test['pricing_cat'].values)\n",
        "\n",
        "X_train_pricing_cat_le = X_train_pricing_cat_le.reshape(-1,1)\n",
        "X_test_pricing_cat_le = X_test_pricing_cat_le.reshape(-1,1)\n",
        "\n",
        "print(X_train_pricing_cat_le.shape)\n",
        "print(X_test_pricing_cat_le.shape)"
      ],
      "execution_count": null,
      "outputs": []
    },
    {
      "cell_type": "markdown",
      "metadata": {
        "id": "lOmysHb95VgI"
      },
      "source": [
        "# Featurizing all text features using TfidfVectorizer"
      ]
    },
    {
      "cell_type": "markdown",
      "metadata": {
        "id": "U-ckt3hS5DQV"
      },
      "source": [
        "## Name"
      ]
    },
    {
      "cell_type": "code",
      "metadata": {
        "id": "2hgxdJKgX-ea"
      },
      "source": [
        "print(\"=\"*100)\n",
        "print(\"After vectorizations\")\n",
        "\n",
        "vectorizer1 = TfidfVectorizer(max_features=1000)\n",
        "vectorizer1.fit(X_train['name'].values)\n",
        "\n",
        "X_train_name_tfidf = vectorizer1.transform(X_train['name'].values)\n",
        "X_test_name_tfidf = vectorizer1.transform(X_test['name'].values)\n",
        "\n",
        "print(X_train_name_tfidf.shape)\n",
        "print(X_test_name_tfidf.shape)"
      ],
      "execution_count": null,
      "outputs": []
    },
    {
      "cell_type": "markdown",
      "metadata": {
        "id": "mgXSvz8D5gKW"
      },
      "source": [
        "## Item description"
      ]
    },
    {
      "cell_type": "code",
      "metadata": {
        "id": "J6UCcNmGMvNR"
      },
      "source": [
        "print(\"=\"*100)\n",
        "print(\"After vectorizations\")\n",
        "\n",
        "vectorizer1 = TfidfVectorizer(min_df=10, max_features=5000) #ngram_range=(1,4)\n",
        "vectorizer1.fit(X_train['item_description'].values)\n",
        "\n",
        "X_train_id_tfidf = vectorizer1.transform(X_train['item_description'].values)\n",
        "X_test_id_tfidf = vectorizer1.transform(X_test['item_description'].values)\n",
        "\n",
        "print(X_train_id_tfidf.shape)\n",
        "print(X_test_id_tfidf.shape)"
      ],
      "execution_count": null,
      "outputs": []
    },
    {
      "cell_type": "markdown",
      "metadata": {
        "id": "kKOnS4De5j3w"
      },
      "source": [
        "## Concatenating all features"
      ]
    },
    {
      "cell_type": "code",
      "metadata": {
        "id": "ZQ6T2Wz0BNH6"
      },
      "source": [
        "from scipy.sparse import hstack\n",
        "\n",
        "X_tr = hstack((X_train_brand_name_le, X_train_sh_id, X_train_ic_id, X_train_mbp, X_train_cat_1_le, X_train_cat_2_le, X_train_cat_3_le, X_train_pricing_cat_le, X_train_name_tfidf, X_train_id_tfidf)).tocsr()\n",
        "X_te = hstack((X_test_brand_name_le, X_test_sh_id, X_test_ic_id, X_test_mbp, X_test_cat_1_le, X_test_cat_2_le, X_test_cat_3_le, X_test_pricing_cat_le, X_test_name_tfidf, X_test_id_tfidf)).tocsr()"
      ],
      "execution_count": null,
      "outputs": []
    },
    {
      "cell_type": "code",
      "metadata": {
        "id": "C6uJDfFkzXLR"
      },
      "source": [
        "from scipy import sparse\n",
        "\n",
        "sparse.save_npz(\"/content/drive/MyDrive/Colab Notebooks/Case_study_1/X_tr.npz\", X_tr)\n",
        "sparse.save_npz(\"/content/drive/MyDrive/Colab Notebooks/Case_study_1/X_te.npz\", X_te)"
      ],
      "execution_count": null,
      "outputs": []
    },
    {
      "cell_type": "code",
      "metadata": {
        "id": "Fd9Vxp6Vz0GV",
        "colab": {
          "base_uri": "https://localhost:8080/"
        },
        "outputId": "87c7c5f1-cd76-4774-894c-c520780f208a"
      },
      "source": [
        "X_tr1 = sparse.load_npz(\"/content/drive/MyDrive/Colab Notebooks/Case_study_1/X_tr.npz\")\n",
        "X_tr1.shape"
      ],
      "execution_count": null,
      "outputs": [
        {
          "output_type": "execute_result",
          "data": {
            "text/plain": [
              "(1481661, 6008)"
            ]
          },
          "metadata": {
            "tags": []
          },
          "execution_count": 33
        }
      ]
    },
    {
      "cell_type": "code",
      "metadata": {
        "colab": {
          "base_uri": "https://localhost:8080/"
        },
        "id": "lA6O0qKo0oR6",
        "outputId": "92c10f40-2a68-40fa-c8fa-dbf1343eee0d"
      },
      "source": [
        "X_te1 = sparse.load_npz(\"/content/drive/MyDrive/Colab Notebooks/Case_study_1/X_te.npz\")\n",
        "X_te1.shape"
      ],
      "execution_count": null,
      "outputs": [
        {
          "output_type": "execute_result",
          "data": {
            "text/plain": [
              "(3460725, 6008)"
            ]
          },
          "metadata": {
            "tags": []
          },
          "execution_count": 32
        }
      ]
    },
    {
      "cell_type": "markdown",
      "metadata": {
        "id": "Z_HI-Fq5hphx"
      },
      "source": [
        "## Training models"
      ]
    },
    {
      "cell_type": "code",
      "metadata": {
        "id": "Zm-7ZObMN1Rd"
      },
      "source": [
        "from numpy import load\n",
        "dict_data = load('/content/drive/MyDrive/Colab Notebooks/Case_study_1/y_tr.npz')"
      ],
      "execution_count": null,
      "outputs": []
    },
    {
      "cell_type": "code",
      "metadata": {
        "id": "Tt2_ctShN1Mk",
        "colab": {
          "base_uri": "https://localhost:8080/"
        },
        "outputId": "f2700790-6367-4971-bd6b-cc98bbcd026d"
      },
      "source": [
        "y_tr1 = dict_data['arr_0']\n",
        "y_tr1.shape"
      ],
      "execution_count": null,
      "outputs": [
        {
          "output_type": "execute_result",
          "data": {
            "text/plain": [
              "(1481661,)"
            ]
          },
          "metadata": {
            "tags": []
          },
          "execution_count": 35
        }
      ]
    },
    {
      "cell_type": "markdown",
      "metadata": {
        "id": "afq1aqTR6sNj"
      },
      "source": [
        "# ML Model"
      ]
    },
    {
      "cell_type": "markdown",
      "metadata": {
        "id": "5-WOvbZz1pau"
      },
      "source": [
        "## Custom Random forest"
      ]
    },
    {
      "cell_type": "code",
      "metadata": {
        "id": "E_vFf7Tfy5US"
      },
      "source": [
        "def generating_samples(input_data, target_data):\n",
        "\n",
        "  \"\"\"\n",
        "  A function for creating random samples of size 1/10 th of the training data with column sampling.\n",
        "  \"\"\"\n",
        "  a = np.arange(0, input_data.shape[0])\n",
        "  b = np.random.choice(a, size=148166, replace=False)\n",
        "  b1 = list(b)\n",
        "\n",
        "  d = np.arange(0, input_data.shape[1])\n",
        "  e = np.random.randint(2000, input_data.shape[1]+1)\n",
        "  f = np.random.choice(d, size=e, replace=False)\n",
        "  f1 = list(f)\n",
        "\n",
        "  # Sample data\n",
        "  sample_data = input_data[b1][:, f1]\n",
        "  target_of_sample_data = target_data[b1]\n",
        "\n",
        "  return sample_data, target_of_sample_data, b1, f1"
      ],
      "execution_count": null,
      "outputs": []
    },
    {
      "cell_type": "markdown",
      "metadata": {
        "id": "nswNWMTI6zJJ"
      },
      "source": [
        "## Creating 30 random samples from the above function"
      ]
    },
    {
      "cell_type": "code",
      "metadata": {
        "colab": {
          "base_uri": "https://localhost:8080/"
        },
        "id": "ASHbheuwU-XP",
        "outputId": "4e882e26-2d2f-4d40-8217-15c86c4ae8d5"
      },
      "source": [
        "list_input_data =[]\n",
        "list_output_data =[]\n",
        "list_selected_row= []\n",
        "list_selected_columns=[]\n",
        "\n",
        "for i in tqdm(range(0, 30)):\n",
        "  a, b, c, d = generating_samples(X_tr1, y_tr1)\n",
        "  list_input_data.append(a)\n",
        "  list_output_data.append(b)\n",
        "  list_selected_row.append(c)\n",
        "  list_selected_columns.append(d)"
      ],
      "execution_count": null,
      "outputs": [
        {
          "output_type": "stream",
          "text": [
            "100%|██████████| 30/30 [00:07<00:00,  4.28it/s]\n"
          ],
          "name": "stderr"
        }
      ]
    },
    {
      "cell_type": "markdown",
      "metadata": {
        "id": "o2ilpyuD7A_-"
      },
      "source": [
        "## Applying Decision tree regressor on each of the sample"
      ]
    },
    {
      "cell_type": "code",
      "metadata": {
        "colab": {
          "base_uri": "https://localhost:8080/"
        },
        "id": "3iTpi-C0VvtP",
        "outputId": "2624901d-21aa-427e-98fa-c88feb105aae"
      },
      "source": [
        "from sklearn.tree import DecisionTreeRegressor\n",
        "\n",
        "list_of_all_models = list()\n",
        "for i in tqdm(range(0, 30)):\n",
        "  decision_tree = DecisionTreeRegressor()\n",
        "  decision_tree.fit(list_input_data[i], list_output_data[i])\n",
        "  list_of_all_models.append(decision_tree)"
      ],
      "execution_count": null,
      "outputs": [
        {
          "output_type": "stream",
          "text": [
            "100%|██████████| 30/30 [1:25:43<00:00, 171.45s/it]\n"
          ],
          "name": "stderr"
        }
      ]
    },
    {
      "cell_type": "code",
      "metadata": {
        "id": "gW8vr_cVsxWa"
      },
      "source": [
        "with open(\"/content/drive/MyDrive/Colab Notebooks/Case_study_1/models_lst3.txt\", \"wb\") as fp:\n",
        "  pickle.dump(list_of_all_models, fp)"
      ],
      "execution_count": null,
      "outputs": []
    },
    {
      "cell_type": "markdown",
      "metadata": {
        "id": "3fs2JRb87JQN"
      },
      "source": [
        "## Passing each data point from est data into 30 DT models and calculating the median of the prediction"
      ]
    },
    {
      "cell_type": "code",
      "metadata": {
        "colab": {
          "base_uri": "https://localhost:8080/"
        },
        "id": "iICvk5YGVv3e",
        "outputId": "42ae5441-8683-495c-9207-1e53986efca1"
      },
      "source": [
        "list_of_y_predicted = list()\n",
        "for i in tqdm(range(0, 30)):\n",
        "  y_pred = list_of_all_models[i].predict(X_te1[:, list_selected_columns[i]])\n",
        "  list_of_y_predicted.append(y_pred)"
      ],
      "execution_count": null,
      "outputs": [
        {
          "output_type": "stream",
          "text": [
            "100%|██████████| 30/30 [02:20<00:00,  4.70s/it]\n"
          ],
          "name": "stderr"
        }
      ]
    },
    {
      "cell_type": "code",
      "metadata": {
        "id": "fXqZBvZRvGWE"
      },
      "source": [
        "array_of_y_predicted = np.array(list_of_y_predicted)\n",
        "y_test_pred = np.median(array_of_y_predicted, axis=0)"
      ],
      "execution_count": null,
      "outputs": []
    },
    {
      "cell_type": "code",
      "metadata": {
        "id": "KVuFkyytvGWF"
      },
      "source": [
        "test_data['price'] = y_test_pred"
      ],
      "execution_count": null,
      "outputs": []
    },
    {
      "cell_type": "code",
      "metadata": {
        "colab": {
          "base_uri": "https://localhost:8080/",
          "height": 492
        },
        "id": "VzYndI98vGWG",
        "outputId": "ce088929-f588-44bb-a646-03c6dfa13813"
      },
      "source": [
        "test_data.head()"
      ],
      "execution_count": null,
      "outputs": [
        {
          "output_type": "execute_result",
          "data": {
            "text/html": [
              "<div>\n",
              "<style scoped>\n",
              "    .dataframe tbody tr th:only-of-type {\n",
              "        vertical-align: middle;\n",
              "    }\n",
              "\n",
              "    .dataframe tbody tr th {\n",
              "        vertical-align: top;\n",
              "    }\n",
              "\n",
              "    .dataframe thead th {\n",
              "        text-align: right;\n",
              "    }\n",
              "</style>\n",
              "<table border=\"1\" class=\"dataframe\">\n",
              "  <thead>\n",
              "    <tr style=\"text-align: right;\">\n",
              "      <th></th>\n",
              "      <th>test_id</th>\n",
              "      <th>name</th>\n",
              "      <th>item_condition_id</th>\n",
              "      <th>brand_name</th>\n",
              "      <th>shipping</th>\n",
              "      <th>item_description</th>\n",
              "      <th>cat_1</th>\n",
              "      <th>cat_2</th>\n",
              "      <th>cat_3</th>\n",
              "      <th>pricing_cat</th>\n",
              "      <th>medain_brand_price</th>\n",
              "      <th>price</th>\n",
              "    </tr>\n",
              "  </thead>\n",
              "  <tbody>\n",
              "    <tr>\n",
              "      <th>0</th>\n",
              "      <td>0</td>\n",
              "      <td>Breast cancer \"I fight like a girl\" ring</td>\n",
              "      <td>1</td>\n",
              "      <td>missing</td>\n",
              "      <td>1</td>\n",
              "      <td>Size 7</td>\n",
              "      <td>Women</td>\n",
              "      <td>Jewelry</td>\n",
              "      <td>Rings</td>\n",
              "      <td>affordable</td>\n",
              "      <td>14.0</td>\n",
              "      <td>2.530031</td>\n",
              "    </tr>\n",
              "    <tr>\n",
              "      <th>1</th>\n",
              "      <td>1</td>\n",
              "      <td>25 pcs NEW 7.5\"x12\" Kraft Bubble Mailers</td>\n",
              "      <td>1</td>\n",
              "      <td>missing</td>\n",
              "      <td>1</td>\n",
              "      <td>25 pcs NEW 7.5\"x12\" Kraft Bubble Mailers Lined...</td>\n",
              "      <td>Other</td>\n",
              "      <td>Office supplies</td>\n",
              "      <td>Shipping Supplies</td>\n",
              "      <td>affordable</td>\n",
              "      <td>14.0</td>\n",
              "      <td>2.249905</td>\n",
              "    </tr>\n",
              "    <tr>\n",
              "      <th>2</th>\n",
              "      <td>2</td>\n",
              "      <td>Coach bag</td>\n",
              "      <td>1</td>\n",
              "      <td>Coach</td>\n",
              "      <td>1</td>\n",
              "      <td>Brand new coach bag. Bought for [rm] at a Coac...</td>\n",
              "      <td>Vintage &amp; Collectibles</td>\n",
              "      <td>Bags and Purses</td>\n",
              "      <td>Handbag</td>\n",
              "      <td>expensive</td>\n",
              "      <td>30.0</td>\n",
              "      <td>3.583133</td>\n",
              "    </tr>\n",
              "    <tr>\n",
              "      <th>3</th>\n",
              "      <td>3</td>\n",
              "      <td>Floral Kimono</td>\n",
              "      <td>2</td>\n",
              "      <td>missing</td>\n",
              "      <td>0</td>\n",
              "      <td>-floral kimono -never worn -lightweight and pe...</td>\n",
              "      <td>Women</td>\n",
              "      <td>Sweaters</td>\n",
              "      <td>Cardigan</td>\n",
              "      <td>affordable</td>\n",
              "      <td>14.0</td>\n",
              "      <td>2.673554</td>\n",
              "    </tr>\n",
              "    <tr>\n",
              "      <th>4</th>\n",
              "      <td>4</td>\n",
              "      <td>Life after Death</td>\n",
              "      <td>3</td>\n",
              "      <td>missing</td>\n",
              "      <td>1</td>\n",
              "      <td>Rediscovering life after the loss of a loved o...</td>\n",
              "      <td>Other</td>\n",
              "      <td>Books</td>\n",
              "      <td>Religion &amp; Spirituality</td>\n",
              "      <td>affordable</td>\n",
              "      <td>14.0</td>\n",
              "      <td>2.302585</td>\n",
              "    </tr>\n",
              "  </tbody>\n",
              "</table>\n",
              "</div>"
            ],
            "text/plain": [
              "   test_id  ...     price\n",
              "0        0  ...  2.530031\n",
              "1        1  ...  2.249905\n",
              "2        2  ...  3.583133\n",
              "3        3  ...  2.673554\n",
              "4        4  ...  2.302585\n",
              "\n",
              "[5 rows x 12 columns]"
            ]
          },
          "metadata": {
            "tags": []
          },
          "execution_count": 27
        }
      ]
    },
    {
      "cell_type": "markdown",
      "metadata": {
        "id": "89o06iOC7Z4p"
      },
      "source": [
        "## Preparing the file for submission"
      ]
    },
    {
      "cell_type": "code",
      "metadata": {
        "id": "D9_bb0q5vGWI"
      },
      "source": [
        "te_sub_crf3 = test_data[['test_id', 'price']]"
      ],
      "execution_count": null,
      "outputs": []
    },
    {
      "cell_type": "code",
      "metadata": {
        "colab": {
          "base_uri": "https://localhost:8080/",
          "height": 203
        },
        "id": "t8Ddy09tvGWI",
        "outputId": "ef124589-3bfa-48b2-f433-0102d2f5b7bc"
      },
      "source": [
        "te_sub_crf3.head()"
      ],
      "execution_count": null,
      "outputs": [
        {
          "output_type": "execute_result",
          "data": {
            "text/html": [
              "<div>\n",
              "<style scoped>\n",
              "    .dataframe tbody tr th:only-of-type {\n",
              "        vertical-align: middle;\n",
              "    }\n",
              "\n",
              "    .dataframe tbody tr th {\n",
              "        vertical-align: top;\n",
              "    }\n",
              "\n",
              "    .dataframe thead th {\n",
              "        text-align: right;\n",
              "    }\n",
              "</style>\n",
              "<table border=\"1\" class=\"dataframe\">\n",
              "  <thead>\n",
              "    <tr style=\"text-align: right;\">\n",
              "      <th></th>\n",
              "      <th>test_id</th>\n",
              "      <th>price</th>\n",
              "    </tr>\n",
              "  </thead>\n",
              "  <tbody>\n",
              "    <tr>\n",
              "      <th>0</th>\n",
              "      <td>0</td>\n",
              "      <td>2.530031</td>\n",
              "    </tr>\n",
              "    <tr>\n",
              "      <th>1</th>\n",
              "      <td>1</td>\n",
              "      <td>2.249905</td>\n",
              "    </tr>\n",
              "    <tr>\n",
              "      <th>2</th>\n",
              "      <td>2</td>\n",
              "      <td>3.583133</td>\n",
              "    </tr>\n",
              "    <tr>\n",
              "      <th>3</th>\n",
              "      <td>3</td>\n",
              "      <td>2.673554</td>\n",
              "    </tr>\n",
              "    <tr>\n",
              "      <th>4</th>\n",
              "      <td>4</td>\n",
              "      <td>2.302585</td>\n",
              "    </tr>\n",
              "  </tbody>\n",
              "</table>\n",
              "</div>"
            ],
            "text/plain": [
              "   test_id     price\n",
              "0        0  2.530031\n",
              "1        1  2.249905\n",
              "2        2  3.583133\n",
              "3        3  2.673554\n",
              "4        4  2.302585"
            ]
          },
          "metadata": {
            "tags": []
          },
          "execution_count": 29
        }
      ]
    },
    {
      "cell_type": "code",
      "metadata": {
        "colab": {
          "base_uri": "https://localhost:8080/"
        },
        "id": "uVpQqh7hvGWJ",
        "outputId": "f51e15bb-70f2-4aa0-c96d-4570118e9b79"
      },
      "source": [
        "te_sub_crf3['price'] = np.expm1(te_sub_crf3['price'])"
      ],
      "execution_count": null,
      "outputs": [
        {
          "output_type": "stream",
          "text": [
            "/usr/local/lib/python3.7/dist-packages/ipykernel_launcher.py:1: SettingWithCopyWarning: \n",
            "A value is trying to be set on a copy of a slice from a DataFrame.\n",
            "Try using .loc[row_indexer,col_indexer] = value instead\n",
            "\n",
            "See the caveats in the documentation: https://pandas.pydata.org/pandas-docs/stable/user_guide/indexing.html#returning-a-view-versus-a-copy\n",
            "  \"\"\"Entry point for launching an IPython kernel.\n"
          ],
          "name": "stderr"
        }
      ]
    },
    {
      "cell_type": "code",
      "metadata": {
        "id": "h_Xjm8Y0vGWK"
      },
      "source": [
        "te_sub_crf3.to_csv('/content/drive/MyDrive/Colab Notebooks/Case_study_1/te_sub_crf3.csv', index=False)"
      ],
      "execution_count": null,
      "outputs": []
    },
    {
      "cell_type": "code",
      "metadata": {
        "colab": {
          "base_uri": "https://localhost:8080/",
          "height": 203
        },
        "id": "2IK9J_G9vGWL",
        "outputId": "d46765a4-dd6d-44f0-d181-c6e6b46c2cc3"
      },
      "source": [
        "te_sub_crf3.head()"
      ],
      "execution_count": null,
      "outputs": [
        {
          "output_type": "execute_result",
          "data": {
            "text/html": [
              "<div>\n",
              "<style scoped>\n",
              "    .dataframe tbody tr th:only-of-type {\n",
              "        vertical-align: middle;\n",
              "    }\n",
              "\n",
              "    .dataframe tbody tr th {\n",
              "        vertical-align: top;\n",
              "    }\n",
              "\n",
              "    .dataframe thead th {\n",
              "        text-align: right;\n",
              "    }\n",
              "</style>\n",
              "<table border=\"1\" class=\"dataframe\">\n",
              "  <thead>\n",
              "    <tr style=\"text-align: right;\">\n",
              "      <th></th>\n",
              "      <th>test_id</th>\n",
              "      <th>price</th>\n",
              "    </tr>\n",
              "  </thead>\n",
              "  <tbody>\n",
              "    <tr>\n",
              "      <th>0</th>\n",
              "      <td>0</td>\n",
              "      <td>11.553892</td>\n",
              "    </tr>\n",
              "    <tr>\n",
              "      <th>1</th>\n",
              "      <td>1</td>\n",
              "      <td>8.486833</td>\n",
              "    </tr>\n",
              "    <tr>\n",
              "      <th>2</th>\n",
              "      <td>2</td>\n",
              "      <td>34.986108</td>\n",
              "    </tr>\n",
              "    <tr>\n",
              "      <th>3</th>\n",
              "      <td>3</td>\n",
              "      <td>13.491377</td>\n",
              "    </tr>\n",
              "    <tr>\n",
              "      <th>4</th>\n",
              "      <td>4</td>\n",
              "      <td>9.000000</td>\n",
              "    </tr>\n",
              "  </tbody>\n",
              "</table>\n",
              "</div>"
            ],
            "text/plain": [
              "   test_id      price\n",
              "0        0  11.553892\n",
              "1        1   8.486833\n",
              "2        2  34.986108\n",
              "3        3  13.491377\n",
              "4        4   9.000000"
            ]
          },
          "metadata": {
            "tags": []
          },
          "execution_count": 32
        }
      ]
    }
  ]
}